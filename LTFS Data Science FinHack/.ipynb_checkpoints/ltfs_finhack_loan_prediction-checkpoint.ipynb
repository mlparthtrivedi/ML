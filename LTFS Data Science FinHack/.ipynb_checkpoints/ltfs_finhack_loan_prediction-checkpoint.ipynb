{
 "cells": [
  {
   "cell_type": "code",
   "execution_count": 1,
   "metadata": {},
   "outputs": [],
   "source": [
    "#Import Necessary Libraries\n",
    "import numpy as np\n",
    "import pandas as pd\n",
    "\n",
    "#visualization libraries\n",
    "import matplotlib.pyplot as plt\n",
    "import seaborn as sns\n",
    "%matplotlib inline\n",
    "\n",
    "#ignore warnings\n",
    "import warnings\n",
    "warnings.filterwarnings('ignore')\n",
    "\n",
    "\n",
    "#Read in and Explore the Data\n",
    "train = pd.read_csv(\"train.csv\")\n",
    "test = pd.read_csv(\"test.csv\")"
   ]
  },
  {
   "cell_type": "code",
   "execution_count": null,
   "metadata": {},
   "outputs": [],
   "source": []
  },
  {
   "cell_type": "code",
   "execution_count": 2,
   "metadata": {},
   "outputs": [
    {
     "name": "stdout",
     "output_type": "stream",
     "text": [
      "             UniqueID  disbursed_amount    asset_cost            ltv  \\\n",
      "count   233154.000000     233154.000000  2.331540e+05  233154.000000   \n",
      "unique            NaN               NaN           NaN            NaN   \n",
      "top               NaN               NaN           NaN            NaN   \n",
      "freq              NaN               NaN           NaN            NaN   \n",
      "mean    535917.573376      54356.993528  7.586507e+04      74.746530   \n",
      "std      68315.693711      12971.314171  1.894478e+04      11.456636   \n",
      "min     417428.000000      13320.000000  3.700000e+04      10.030000   \n",
      "25%     476786.250000      47145.000000  6.571700e+04      68.880000   \n",
      "50%     535978.500000      53803.000000  7.094600e+04      76.800000   \n",
      "75%     595039.750000      60413.000000  7.920175e+04      83.670000   \n",
      "max     671084.000000     990572.000000  1.628992e+06      95.000000   \n",
      "\n",
      "            branch_id    supplier_id  manufacturer_id  Current_pincode_ID  \\\n",
      "count   233154.000000  233154.000000    233154.000000       233154.000000   \n",
      "unique            NaN            NaN              NaN                 NaN   \n",
      "top               NaN            NaN              NaN                 NaN   \n",
      "freq              NaN            NaN              NaN                 NaN   \n",
      "mean        72.936094   19638.635035        69.028054         3396.880247   \n",
      "std         69.834995    3491.949566        22.141304         2238.147502   \n",
      "min          1.000000   10524.000000        45.000000            1.000000   \n",
      "25%         14.000000   16535.000000        48.000000         1511.000000   \n",
      "50%         61.000000   20333.000000        86.000000         2970.000000   \n",
      "75%        130.000000   23000.000000        86.000000         5677.000000   \n",
      "max        261.000000   24803.000000       156.000000         7345.000000   \n",
      "\n",
      "       Date.of.Birth Employment.Type      ...       SEC.SANCTIONED.AMOUNT  \\\n",
      "count         233154          225493      ...                2.331540e+05   \n",
      "unique         15433               2      ...                         NaN   \n",
      "top         01-01-88   Self employed      ...                         NaN   \n",
      "freq            2173          127635      ...                         NaN   \n",
      "mean             NaN             NaN      ...                7.295923e+03   \n",
      "std              NaN             NaN      ...                1.831560e+05   \n",
      "min              NaN             NaN      ...                0.000000e+00   \n",
      "25%              NaN             NaN      ...                0.000000e+00   \n",
      "50%              NaN             NaN      ...                0.000000e+00   \n",
      "75%              NaN             NaN      ...                0.000000e+00   \n",
      "max              NaN             NaN      ...                3.000000e+07   \n",
      "\n",
      "        SEC.DISBURSED.AMOUNT  PRIMARY.INSTAL.AMT  SEC.INSTAL.AMT  \\\n",
      "count           2.331540e+05        2.331540e+05    2.331540e+05   \n",
      "unique                   NaN                 NaN             NaN   \n",
      "top                      NaN                 NaN             NaN   \n",
      "freq                     NaN                 NaN             NaN   \n",
      "mean            7.179998e+03        1.310548e+04    3.232684e+02   \n",
      "std             1.825925e+05        1.513679e+05    1.555369e+04   \n",
      "min             0.000000e+00        0.000000e+00    0.000000e+00   \n",
      "25%             0.000000e+00        0.000000e+00    0.000000e+00   \n",
      "50%             0.000000e+00        0.000000e+00    0.000000e+00   \n",
      "75%             0.000000e+00        1.999000e+03    0.000000e+00   \n",
      "max             3.000000e+07        2.564281e+07    4.170901e+06   \n",
      "\n",
      "        NEW.ACCTS.IN.LAST.SIX.MONTHS  DELINQUENT.ACCTS.IN.LAST.SIX.MONTHS  \\\n",
      "count                  233154.000000                        233154.000000   \n",
      "unique                           NaN                                  NaN   \n",
      "top                              NaN                                  NaN   \n",
      "freq                             NaN                                  NaN   \n",
      "mean                        0.381833                             0.097481   \n",
      "std                         0.955107                             0.384439   \n",
      "min                         0.000000                             0.000000   \n",
      "25%                         0.000000                             0.000000   \n",
      "50%                         0.000000                             0.000000   \n",
      "75%                         0.000000                             0.000000   \n",
      "max                        35.000000                            20.000000   \n",
      "\n",
      "        AVERAGE.ACCT.AGE  CREDIT.HISTORY.LENGTH  NO.OF_INQUIRIES  \\\n",
      "count             233154                 233154    233154.000000   \n",
      "unique               192                    294              NaN   \n",
      "top            0yrs 0mon              0yrs 0mon              NaN   \n",
      "freq              119373                 119127              NaN   \n",
      "mean                 NaN                    NaN         0.206615   \n",
      "std                  NaN                    NaN         0.706498   \n",
      "min                  NaN                    NaN         0.000000   \n",
      "25%                  NaN                    NaN         0.000000   \n",
      "50%                  NaN                    NaN         0.000000   \n",
      "75%                  NaN                    NaN         0.000000   \n",
      "max                  NaN                    NaN        36.000000   \n",
      "\n",
      "         loan_default  \n",
      "count   233154.000000  \n",
      "unique            NaN  \n",
      "top               NaN  \n",
      "freq              NaN  \n",
      "mean         0.217071  \n",
      "std          0.412252  \n",
      "min          0.000000  \n",
      "25%          0.000000  \n",
      "50%          0.000000  \n",
      "75%          0.000000  \n",
      "max          1.000000  \n",
      "\n",
      "[11 rows x 41 columns]\n",
      "UniqueID                                  0\n",
      "disbursed_amount                          0\n",
      "asset_cost                                0\n",
      "ltv                                       0\n",
      "branch_id                                 0\n",
      "supplier_id                               0\n",
      "manufacturer_id                           0\n",
      "Current_pincode_ID                        0\n",
      "Date.of.Birth                             0\n",
      "Employment.Type                        7661\n",
      "DisbursalDate                             0\n",
      "State_ID                                  0\n",
      "Employee_code_ID                          0\n",
      "MobileNo_Avl_Flag                         0\n",
      "Aadhar_flag                               0\n",
      "PAN_flag                                  0\n",
      "VoterID_flag                              0\n",
      "Driving_flag                              0\n",
      "Passport_flag                             0\n",
      "PERFORM_CNS.SCORE                         0\n",
      "PERFORM_CNS.SCORE.DESCRIPTION             0\n",
      "PRI.NO.OF.ACCTS                           0\n",
      "PRI.ACTIVE.ACCTS                          0\n",
      "PRI.OVERDUE.ACCTS                         0\n",
      "PRI.CURRENT.BALANCE                       0\n",
      "PRI.SANCTIONED.AMOUNT                     0\n",
      "PRI.DISBURSED.AMOUNT                      0\n",
      "SEC.NO.OF.ACCTS                           0\n",
      "SEC.ACTIVE.ACCTS                          0\n",
      "SEC.OVERDUE.ACCTS                         0\n",
      "SEC.CURRENT.BALANCE                       0\n",
      "SEC.SANCTIONED.AMOUNT                     0\n",
      "SEC.DISBURSED.AMOUNT                      0\n",
      "PRIMARY.INSTAL.AMT                        0\n",
      "SEC.INSTAL.AMT                            0\n",
      "NEW.ACCTS.IN.LAST.SIX.MONTHS              0\n",
      "DELINQUENT.ACCTS.IN.LAST.SIX.MONTHS       0\n",
      "AVERAGE.ACCT.AGE                          0\n",
      "CREDIT.HISTORY.LENGTH                     0\n",
      "NO.OF_INQUIRIES                           0\n",
      "loan_default                              0\n",
      "dtype: int64\n",
      "0         50578\n",
      "1         47145\n",
      "2         53278\n",
      "3         57513\n",
      "4         52378\n",
      "5         54513\n",
      "6         46349\n",
      "7         43894\n",
      "8         53713\n",
      "9         52603\n",
      "10        53278\n",
      "11        64769\n",
      "12        53278\n",
      "13        49478\n",
      "14        49278\n",
      "15        47549\n",
      "16        57713\n",
      "17        53503\n",
      "18        70017\n",
      "19        58259\n",
      "20        58013\n",
      "21        31184\n",
      "22        43594\n",
      "23        54513\n",
      "24        73123\n",
      "25        55213\n",
      "26        53713\n",
      "27        57713\n",
      "28        57513\n",
      "29        54513\n",
      "          ...  \n",
      "233124    52803\n",
      "233125    40894\n",
      "233126    42894\n",
      "233127    63447\n",
      "233128    57259\n",
      "233129    58513\n",
      "233130    60447\n",
      "233131    29029\n",
      "233132    60447\n",
      "233133    53303\n",
      "233134    48349\n",
      "233135    39439\n",
      "233136    50155\n",
      "233137    43210\n",
      "233138    28029\n",
      "233139    42894\n",
      "233140    42894\n",
      "233141    29029\n",
      "233142    57013\n",
      "233143    61213\n",
      "233144    56059\n",
      "233145    49803\n",
      "233146    38439\n",
      "233147    72623\n",
      "233148    42894\n",
      "233149    63213\n",
      "233150    73651\n",
      "233151    33484\n",
      "233152    34259\n",
      "233153    75751\n",
      "Name: disbursed_amount, Length: 233154, dtype: int64\n"
     ]
    }
   ],
   "source": [
    "features_details = train.describe(include = \"all\");\n",
    "nan_value_detail = pd.isnull(train).sum();\n",
    "print(features_details)\n",
    "print(nan_value_detail)\n",
    "print(train['disbursed_amount'])"
   ]
  },
  {
   "cell_type": "code",
   "execution_count": 3,
   "metadata": {},
   "outputs": [
    {
     "data": {
      "text/plain": [
       "<matplotlib.axes._subplots.AxesSubplot at 0x160828b4e48>"
      ]
     },
     "execution_count": 3,
     "metadata": {},
     "output_type": "execute_result"
    },
    {
     "data": {
      "image/png": "[encoded data removed]",
      "text/plain": [
       "<Figure size 432x288 with 1 Axes>"
      ]
     },
     "metadata": {},
     "output_type": "display_data"
    }
   ],
   "source": [
    "#map Fare values into groups of numerical values\n",
    "train['disbursed_amount_bound'] = pd.qcut(train['disbursed_amount'], 2, labels = [1, 2])\n",
    "test['disbursed_amount_bound'] = pd.qcut(test['disbursed_amount'], 2, labels = [1, 2])\n",
    "#drop Fare values\n",
    "#train = train.drop(['disbursed_amount'], axis = 1)\n",
    "#test = test.drop(['disbursed_amount'], axis = 1)\n",
    "sns.barplot(x=\"disbursed_amount_bound\", y=\"loan_default\", data=train)"
   ]
  },
  {
   "cell_type": "code",
   "execution_count": 4,
   "metadata": {},
   "outputs": [
    {
     "data": {
      "text/plain": [
       "<matplotlib.axes._subplots.AxesSubplot at 0x16086ddcf60>"
      ]
     },
     "execution_count": 4,
     "metadata": {},
     "output_type": "execute_result"
    },
    {
     "data": {
      "image/png": "[encoded data removed]",
      "text/plain": [
       "<Figure size 432x288 with 1 Axes>"
      ]
     },
     "metadata": {},
     "output_type": "display_data"
    }
   ],
   "source": [
    "#map Fare values into groups of numerical values\n",
    "train['asset_cost_bound'] = pd.qcut(train['asset_cost'], 2, labels = [1, 2])\n",
    "test['asset_cost_bound'] = pd.qcut(test['asset_cost'], 2, labels = [1, 2])\n",
    "#drop Fare values\n",
    "#train = train.drop(['disbursed_amount'], axis = 1)\n",
    "#test = test.drop(['disbursed_amount'], axis = 1)\n",
    "sns.barplot(x=\"asset_cost_bound\", y=\"loan_default\", data=train)"
   ]
  },
  {
   "cell_type": "code",
   "execution_count": 5,
   "metadata": {},
   "outputs": [
    {
     "data": {
      "text/plain": [
       "<matplotlib.axes._subplots.AxesSubplot at 0x16086e3ee80>"
      ]
     },
     "execution_count": 5,
     "metadata": {},
     "output_type": "execute_result"
    },
    {
     "data": {
      "image/png": "[encoded data removed]",
      "text/plain": [
       "<Figure size 432x288 with 1 Axes>"
      ]
     },
     "metadata": {},
     "output_type": "display_data"
    }
   ],
   "source": [
    "#map Fare values into groups of numerical values\n",
    "train['ltv_bound'] = pd.qcut(train['ltv'], 5, labels = [1, 2,3,4,5])\n",
    "test['ltv_bound'] = pd.qcut(test['ltv'], 5, labels = [1, 2,3,4,5])\n",
    "#drop Fare values\n",
    "#train = train.drop(['disbursed_amount'], axis = 1)\n",
    "#test = test.drop(['disbursed_amount'], axis = 1)\n",
    "sns.barplot(x=\"ltv_bound\", y=\"loan_default\", data=train)"
   ]
  },
  {
   "cell_type": "code",
   "execution_count": 6,
   "metadata": {},
   "outputs": [
    {
     "data": {
      "text/plain": [
       "<matplotlib.axes._subplots.AxesSubplot at 0x160870d7be0>"
      ]
     },
     "execution_count": 6,
     "metadata": {},
     "output_type": "execute_result"
    },
    {
     "data": {
      "image/png": "[encoded data removed]",
      "text/plain": [
       "<Figure size 432x288 with 1 Axes>"
      ]
     },
     "metadata": {},
     "output_type": "display_data"
    }
   ],
   "source": [
    "sns.distplot(train[\"MobileNo_Avl_Flag\"],kde=False, bins=10)\n",
    "#sns.catplot(x=\"loan_default\",y='MobileNo_Avl_Flag',data=train)\n",
    "sns.barplot(x=\"MobileNo_Avl_Flag\", y=\"loan_default\", data=train)"
   ]
  },
  {
   "cell_type": "code",
   "execution_count": 7,
   "metadata": {},
   "outputs": [],
   "source": [
    "train[\"Employment.Type\"] = train[\"Employment.Type\"].fillna('Self employed')\n",
    "#map each Embarked value to a numerical value\n",
    "et_mapping = {\"Self employed\": 1, \"Salaried\": 2}\n",
    "train['Employment.Type'] = train['Employment.Type'].map(et_mapping)\n",
    "test['Employment.Type'] = test['Employment.Type'].map(et_mapping)"
   ]
  },
  {
   "cell_type": "code",
   "execution_count": 8,
   "metadata": {},
   "outputs": [
    {
     "data": {
      "text/plain": [
       "<matplotlib.axes._subplots.AxesSubplot at 0x16087137470>"
      ]
     },
     "execution_count": 8,
     "metadata": {},
     "output_type": "execute_result"
    },
    {
     "data": {
      "image/png": "[encoded data removed]",
      "text/plain": [
       "<Figure size 432x288 with 1 Axes>"
      ]
     },
     "metadata": {},
     "output_type": "display_data"
    }
   ],
   "source": [
    "sns.barplot(x=\"Employment.Type\", y=\"loan_default\", data=train)"
   ]
  },
  {
   "cell_type": "code",
   "execution_count": 9,
   "metadata": {},
   "outputs": [
    {
     "data": {
      "image/png": "[encoded data removed]",
      "text/plain": [
       "<Figure size 432x288 with 1 Axes>"
      ]
     },
     "metadata": {},
     "output_type": "display_data"
    }
   ],
   "source": [
    "train['age'] = train['Date.of.Birth'].str.replace('-', '')\n",
    "test['age'] = test['Date.of.Birth'].str.replace('-', '')\n",
    "now = pd.Timestamp('now')\n",
    "train['age'] = pd.to_datetime(train['age'], format='%d%m%y')    # 1\n",
    "test['age'] = pd.to_datetime(test['age'], format='%d%m%y')    # 1\n",
    "train['age'] = train['age'].where(train['age'] < now, train['age'] -  np.timedelta64(100, 'Y'))   # 2\n",
    "test['age'] = test['age'].where(test['age'] < now, test['age'] -  np.timedelta64(100, 'Y'))   # 2\n",
    "train['agec'] = (now - train['age']).astype('<m8[Y]')    # 3\n",
    "test['agec'] = (now - train['age']).astype('<m8[Y]')    # 3\n",
    "\n",
    "#sort the ages into logical categories\n",
    "bins = [-1, 0, 5, 12, 18, 24, 35, 60, np.inf]\n",
    "labels = ['Unknown', 'Baby', 'Child', 'Teenager', 'Student', 'Young Adult', 'Adult', 'Senior']\n",
    "train['AgeGroup'] = pd.cut(train[\"agec\"], bins, labels = labels)\n",
    "test['AgeGroup'] = pd.cut(test[\"agec\"], bins, labels = labels)\n",
    "\n",
    "age_mapping = {'Baby': 1, 'Child': 2, 'Teenager': 3, 'Student': 4, 'Young Adult': 5, 'Adult': 6, 'Senior': 7}\n",
    "train['AgeGroup'] = train['AgeGroup'].map(age_mapping)\n",
    "test['AgeGroup'] = test['AgeGroup'].map(age_mapping)\n",
    "\n",
    "#draw a bar plot of Age vs. survival\n",
    "sns.barplot(x=\"AgeGroup\", y=\"loan_default\", data=train)\n",
    "plt.show()"
   ]
  },
  {
   "cell_type": "code",
   "execution_count": 10,
   "metadata": {},
   "outputs": [
    {
     "data": {
      "text/html": [
       "<div>\n",
       "<style scoped>\n",
       "    .dataframe tbody tr th:only-of-type {\n",
       "        vertical-align: middle;\n",
       "    }\n",
       "\n",
       "    .dataframe tbody tr th {\n",
       "        vertical-align: top;\n",
       "    }\n",
       "\n",
       "    .dataframe thead th {\n",
       "        text-align: right;\n",
       "    }\n",
       "</style>\n",
       "<table border=\"1\" class=\"dataframe\">\n",
       "  <thead>\n",
       "    <tr style=\"text-align: right;\">\n",
       "      <th></th>\n",
       "      <th>UniqueID</th>\n",
       "      <th>disbursed_amount</th>\n",
       "      <th>asset_cost</th>\n",
       "      <th>ltv</th>\n",
       "      <th>branch_id</th>\n",
       "      <th>supplier_id</th>\n",
       "      <th>manufacturer_id</th>\n",
       "      <th>Current_pincode_ID</th>\n",
       "      <th>Date.of.Birth</th>\n",
       "      <th>Employment.Type</th>\n",
       "      <th>...</th>\n",
       "      <th>AVERAGE.ACCT.AGE</th>\n",
       "      <th>CREDIT.HISTORY.LENGTH</th>\n",
       "      <th>NO.OF_INQUIRIES</th>\n",
       "      <th>loan_default</th>\n",
       "      <th>disbursed_amount_bound</th>\n",
       "      <th>asset_cost_bound</th>\n",
       "      <th>ltv_bound</th>\n",
       "      <th>age</th>\n",
       "      <th>agec</th>\n",
       "      <th>AgeGroup</th>\n",
       "    </tr>\n",
       "  </thead>\n",
       "  <tbody>\n",
       "    <tr>\n",
       "      <th>0</th>\n",
       "      <td>420825</td>\n",
       "      <td>50578</td>\n",
       "      <td>58400</td>\n",
       "      <td>89.55</td>\n",
       "      <td>67</td>\n",
       "      <td>22807</td>\n",
       "      <td>45</td>\n",
       "      <td>1441</td>\n",
       "      <td>01-01-84</td>\n",
       "      <td>2</td>\n",
       "      <td>...</td>\n",
       "      <td>0yrs 0mon</td>\n",
       "      <td>0yrs 0mon</td>\n",
       "      <td>0</td>\n",
       "      <td>0</td>\n",
       "      <td>1</td>\n",
       "      <td>1</td>\n",
       "      <td>5</td>\n",
       "      <td>1984-01-01</td>\n",
       "      <td>35.0</td>\n",
       "      <td>5</td>\n",
       "    </tr>\n",
       "    <tr>\n",
       "      <th>1</th>\n",
       "      <td>537409</td>\n",
       "      <td>47145</td>\n",
       "      <td>65550</td>\n",
       "      <td>73.23</td>\n",
       "      <td>67</td>\n",
       "      <td>22807</td>\n",
       "      <td>45</td>\n",
       "      <td>1502</td>\n",
       "      <td>31-07-85</td>\n",
       "      <td>1</td>\n",
       "      <td>...</td>\n",
       "      <td>1yrs 11mon</td>\n",
       "      <td>1yrs 11mon</td>\n",
       "      <td>0</td>\n",
       "      <td>1</td>\n",
       "      <td>1</td>\n",
       "      <td>1</td>\n",
       "      <td>2</td>\n",
       "      <td>1985-07-31</td>\n",
       "      <td>33.0</td>\n",
       "      <td>5</td>\n",
       "    </tr>\n",
       "    <tr>\n",
       "      <th>2</th>\n",
       "      <td>417566</td>\n",
       "      <td>53278</td>\n",
       "      <td>61360</td>\n",
       "      <td>89.63</td>\n",
       "      <td>67</td>\n",
       "      <td>22807</td>\n",
       "      <td>45</td>\n",
       "      <td>1497</td>\n",
       "      <td>24-08-85</td>\n",
       "      <td>1</td>\n",
       "      <td>...</td>\n",
       "      <td>0yrs 0mon</td>\n",
       "      <td>0yrs 0mon</td>\n",
       "      <td>0</td>\n",
       "      <td>0</td>\n",
       "      <td>1</td>\n",
       "      <td>1</td>\n",
       "      <td>5</td>\n",
       "      <td>1985-08-24</td>\n",
       "      <td>33.0</td>\n",
       "      <td>5</td>\n",
       "    </tr>\n",
       "    <tr>\n",
       "      <th>3</th>\n",
       "      <td>624493</td>\n",
       "      <td>57513</td>\n",
       "      <td>66113</td>\n",
       "      <td>88.48</td>\n",
       "      <td>67</td>\n",
       "      <td>22807</td>\n",
       "      <td>45</td>\n",
       "      <td>1501</td>\n",
       "      <td>30-12-93</td>\n",
       "      <td>1</td>\n",
       "      <td>...</td>\n",
       "      <td>0yrs 8mon</td>\n",
       "      <td>1yrs 3mon</td>\n",
       "      <td>1</td>\n",
       "      <td>1</td>\n",
       "      <td>2</td>\n",
       "      <td>1</td>\n",
       "      <td>5</td>\n",
       "      <td>1993-12-30</td>\n",
       "      <td>25.0</td>\n",
       "      <td>5</td>\n",
       "    </tr>\n",
       "    <tr>\n",
       "      <th>4</th>\n",
       "      <td>539055</td>\n",
       "      <td>52378</td>\n",
       "      <td>60300</td>\n",
       "      <td>88.39</td>\n",
       "      <td>67</td>\n",
       "      <td>22807</td>\n",
       "      <td>45</td>\n",
       "      <td>1495</td>\n",
       "      <td>09-12-77</td>\n",
       "      <td>1</td>\n",
       "      <td>...</td>\n",
       "      <td>0yrs 0mon</td>\n",
       "      <td>0yrs 0mon</td>\n",
       "      <td>1</td>\n",
       "      <td>1</td>\n",
       "      <td>1</td>\n",
       "      <td>1</td>\n",
       "      <td>5</td>\n",
       "      <td>1977-12-09</td>\n",
       "      <td>41.0</td>\n",
       "      <td>6</td>\n",
       "    </tr>\n",
       "  </tbody>\n",
       "</table>\n",
       "<p>5 rows × 47 columns</p>\n",
       "</div>"
      ],
      "text/plain": [
       "   UniqueID  disbursed_amount  asset_cost    ltv  branch_id  supplier_id  \\\n",
       "0    420825             50578       58400  89.55         67        22807   \n",
       "1    537409             47145       65550  73.23         67        22807   \n",
       "2    417566             53278       61360  89.63         67        22807   \n",
       "3    624493             57513       66113  88.48         67        22807   \n",
       "4    539055             52378       60300  88.39         67        22807   \n",
       "\n",
       "   manufacturer_id  Current_pincode_ID Date.of.Birth  Employment.Type  \\\n",
       "0               45                1441      01-01-84                2   \n",
       "1               45                1502      31-07-85                1   \n",
       "2               45                1497      24-08-85                1   \n",
       "3               45                1501      30-12-93                1   \n",
       "4               45                1495      09-12-77                1   \n",
       "\n",
       "     ...    AVERAGE.ACCT.AGE  CREDIT.HISTORY.LENGTH  NO.OF_INQUIRIES  \\\n",
       "0    ...           0yrs 0mon              0yrs 0mon                0   \n",
       "1    ...          1yrs 11mon             1yrs 11mon                0   \n",
       "2    ...           0yrs 0mon              0yrs 0mon                0   \n",
       "3    ...           0yrs 8mon              1yrs 3mon                1   \n",
       "4    ...           0yrs 0mon              0yrs 0mon                1   \n",
       "\n",
       "   loan_default  disbursed_amount_bound  asset_cost_bound  ltv_bound  \\\n",
       "0             0                       1                 1          5   \n",
       "1             1                       1                 1          2   \n",
       "2             0                       1                 1          5   \n",
       "3             1                       2                 1          5   \n",
       "4             1                       1                 1          5   \n",
       "\n",
       "         age  agec  AgeGroup  \n",
       "0 1984-01-01  35.0         5  \n",
       "1 1985-07-31  33.0         5  \n",
       "2 1985-08-24  33.0         5  \n",
       "3 1993-12-30  25.0         5  \n",
       "4 1977-12-09  41.0         6  \n",
       "\n",
       "[5 rows x 47 columns]"
      ]
     },
     "execution_count": 10,
     "metadata": {},
     "output_type": "execute_result"
    }
   ],
   "source": [
    "train.head()"
   ]
  },
  {
   "cell_type": "code",
   "execution_count": 11,
   "metadata": {},
   "outputs": [],
   "source": [
    "train['doc_total'] = train['MobileNo_Avl_Flag']+train['Aadhar_flag']+train['PAN_flag']+train['VoterID_flag']+train['Driving_flag']+train['Passport_flag']\n",
    "test['doc_total'] = test['MobileNo_Avl_Flag']+test['Aadhar_flag']+test['PAN_flag']+test['VoterID_flag']+test['Driving_flag']+test['Passport_flag']"
   ]
  },
  {
   "cell_type": "code",
   "execution_count": 12,
   "metadata": {},
   "outputs": [
    {
     "data": {
      "image/png": "[encoded data removed]",
      "text/plain": [
       "<Figure size 432x288 with 1 Axes>"
      ]
     },
     "metadata": {},
     "output_type": "display_data"
    }
   ],
   "source": [
    "#draw a bar plot of Age vs. survival\n",
    "sns.barplot(x=\"doc_total\", y=\"loan_default\", data=train)\n",
    "plt.show()"
   ]
  },
  {
   "cell_type": "code",
   "execution_count": 13,
   "metadata": {},
   "outputs": [
    {
     "data": {
      "text/html": [
       "<div>\n",
       "<style scoped>\n",
       "    .dataframe tbody tr th:only-of-type {\n",
       "        vertical-align: middle;\n",
       "    }\n",
       "\n",
       "    .dataframe tbody tr th {\n",
       "        vertical-align: top;\n",
       "    }\n",
       "\n",
       "    .dataframe thead th {\n",
       "        text-align: right;\n",
       "    }\n",
       "</style>\n",
       "<table border=\"1\" class=\"dataframe\">\n",
       "  <thead>\n",
       "    <tr style=\"text-align: right;\">\n",
       "      <th></th>\n",
       "      <th>UniqueID</th>\n",
       "      <th>disbursed_amount</th>\n",
       "      <th>asset_cost</th>\n",
       "      <th>ltv</th>\n",
       "      <th>branch_id</th>\n",
       "      <th>supplier_id</th>\n",
       "      <th>manufacturer_id</th>\n",
       "      <th>Current_pincode_ID</th>\n",
       "      <th>Date.of.Birth</th>\n",
       "      <th>Employment.Type</th>\n",
       "      <th>...</th>\n",
       "      <th>CREDIT.HISTORY.LENGTH</th>\n",
       "      <th>NO.OF_INQUIRIES</th>\n",
       "      <th>loan_default</th>\n",
       "      <th>disbursed_amount_bound</th>\n",
       "      <th>asset_cost_bound</th>\n",
       "      <th>ltv_bound</th>\n",
       "      <th>age</th>\n",
       "      <th>agec</th>\n",
       "      <th>AgeGroup</th>\n",
       "      <th>doc_total</th>\n",
       "    </tr>\n",
       "  </thead>\n",
       "  <tbody>\n",
       "    <tr>\n",
       "      <th>0</th>\n",
       "      <td>420825</td>\n",
       "      <td>50578</td>\n",
       "      <td>58400</td>\n",
       "      <td>89.55</td>\n",
       "      <td>67</td>\n",
       "      <td>22807</td>\n",
       "      <td>45</td>\n",
       "      <td>1441</td>\n",
       "      <td>01-01-84</td>\n",
       "      <td>2</td>\n",
       "      <td>...</td>\n",
       "      <td>0yrs 0mon</td>\n",
       "      <td>0</td>\n",
       "      <td>0</td>\n",
       "      <td>1</td>\n",
       "      <td>1</td>\n",
       "      <td>5</td>\n",
       "      <td>1984-01-01</td>\n",
       "      <td>35.0</td>\n",
       "      <td>5</td>\n",
       "      <td>2</td>\n",
       "    </tr>\n",
       "    <tr>\n",
       "      <th>1</th>\n",
       "      <td>537409</td>\n",
       "      <td>47145</td>\n",
       "      <td>65550</td>\n",
       "      <td>73.23</td>\n",
       "      <td>67</td>\n",
       "      <td>22807</td>\n",
       "      <td>45</td>\n",
       "      <td>1502</td>\n",
       "      <td>31-07-85</td>\n",
       "      <td>1</td>\n",
       "      <td>...</td>\n",
       "      <td>1yrs 11mon</td>\n",
       "      <td>0</td>\n",
       "      <td>1</td>\n",
       "      <td>1</td>\n",
       "      <td>1</td>\n",
       "      <td>2</td>\n",
       "      <td>1985-07-31</td>\n",
       "      <td>33.0</td>\n",
       "      <td>5</td>\n",
       "      <td>2</td>\n",
       "    </tr>\n",
       "    <tr>\n",
       "      <th>2</th>\n",
       "      <td>417566</td>\n",
       "      <td>53278</td>\n",
       "      <td>61360</td>\n",
       "      <td>89.63</td>\n",
       "      <td>67</td>\n",
       "      <td>22807</td>\n",
       "      <td>45</td>\n",
       "      <td>1497</td>\n",
       "      <td>24-08-85</td>\n",
       "      <td>1</td>\n",
       "      <td>...</td>\n",
       "      <td>0yrs 0mon</td>\n",
       "      <td>0</td>\n",
       "      <td>0</td>\n",
       "      <td>1</td>\n",
       "      <td>1</td>\n",
       "      <td>5</td>\n",
       "      <td>1985-08-24</td>\n",
       "      <td>33.0</td>\n",
       "      <td>5</td>\n",
       "      <td>2</td>\n",
       "    </tr>\n",
       "    <tr>\n",
       "      <th>3</th>\n",
       "      <td>624493</td>\n",
       "      <td>57513</td>\n",
       "      <td>66113</td>\n",
       "      <td>88.48</td>\n",
       "      <td>67</td>\n",
       "      <td>22807</td>\n",
       "      <td>45</td>\n",
       "      <td>1501</td>\n",
       "      <td>30-12-93</td>\n",
       "      <td>1</td>\n",
       "      <td>...</td>\n",
       "      <td>1yrs 3mon</td>\n",
       "      <td>1</td>\n",
       "      <td>1</td>\n",
       "      <td>2</td>\n",
       "      <td>1</td>\n",
       "      <td>5</td>\n",
       "      <td>1993-12-30</td>\n",
       "      <td>25.0</td>\n",
       "      <td>5</td>\n",
       "      <td>2</td>\n",
       "    </tr>\n",
       "    <tr>\n",
       "      <th>4</th>\n",
       "      <td>539055</td>\n",
       "      <td>52378</td>\n",
       "      <td>60300</td>\n",
       "      <td>88.39</td>\n",
       "      <td>67</td>\n",
       "      <td>22807</td>\n",
       "      <td>45</td>\n",
       "      <td>1495</td>\n",
       "      <td>09-12-77</td>\n",
       "      <td>1</td>\n",
       "      <td>...</td>\n",
       "      <td>0yrs 0mon</td>\n",
       "      <td>1</td>\n",
       "      <td>1</td>\n",
       "      <td>1</td>\n",
       "      <td>1</td>\n",
       "      <td>5</td>\n",
       "      <td>1977-12-09</td>\n",
       "      <td>41.0</td>\n",
       "      <td>6</td>\n",
       "      <td>2</td>\n",
       "    </tr>\n",
       "  </tbody>\n",
       "</table>\n",
       "<p>5 rows × 48 columns</p>\n",
       "</div>"
      ],
      "text/plain": [
       "   UniqueID  disbursed_amount  asset_cost    ltv  branch_id  supplier_id  \\\n",
       "0    420825             50578       58400  89.55         67        22807   \n",
       "1    537409             47145       65550  73.23         67        22807   \n",
       "2    417566             53278       61360  89.63         67        22807   \n",
       "3    624493             57513       66113  88.48         67        22807   \n",
       "4    539055             52378       60300  88.39         67        22807   \n",
       "\n",
       "   manufacturer_id  Current_pincode_ID Date.of.Birth  Employment.Type  \\\n",
       "0               45                1441      01-01-84                2   \n",
       "1               45                1502      31-07-85                1   \n",
       "2               45                1497      24-08-85                1   \n",
       "3               45                1501      30-12-93                1   \n",
       "4               45                1495      09-12-77                1   \n",
       "\n",
       "     ...     CREDIT.HISTORY.LENGTH  NO.OF_INQUIRIES  loan_default  \\\n",
       "0    ...                 0yrs 0mon                0             0   \n",
       "1    ...                1yrs 11mon                0             1   \n",
       "2    ...                 0yrs 0mon                0             0   \n",
       "3    ...                 1yrs 3mon                1             1   \n",
       "4    ...                 0yrs 0mon                1             1   \n",
       "\n",
       "   disbursed_amount_bound  asset_cost_bound  ltv_bound        age  agec  \\\n",
       "0                       1                 1          5 1984-01-01  35.0   \n",
       "1                       1                 1          2 1985-07-31  33.0   \n",
       "2                       1                 1          5 1985-08-24  33.0   \n",
       "3                       2                 1          5 1993-12-30  25.0   \n",
       "4                       1                 1          5 1977-12-09  41.0   \n",
       "\n",
       "   AgeGroup  doc_total  \n",
       "0         5          2  \n",
       "1         5          2  \n",
       "2         5          2  \n",
       "3         5          2  \n",
       "4         6          2  \n",
       "\n",
       "[5 rows x 48 columns]"
      ]
     },
     "execution_count": 13,
     "metadata": {},
     "output_type": "execute_result"
    }
   ],
   "source": [
    "train.head()"
   ]
  },
  {
   "cell_type": "code",
   "execution_count": 14,
   "metadata": {},
   "outputs": [
    {
     "name": "stdout",
     "output_type": "stream",
     "text": [
      "['A-Very Low Risk' 'B-Very Low Risk' 'C-Very Low Risk' 'D-Very Low Risk'\n",
      " 'E-Low Risk' 'F-Low Risk' 'G-Low Risk' 'H-Medium Risk' 'I-Medium Risk'\n",
      " 'J-High Risk' 'K-High Risk' 'L-Very High Risk' 'M-Very High Risk'\n",
      " 'No Bureau History Available'\n",
      " 'Not Scored: More than 50 active Accounts found'\n",
      " 'Not Scored: No Activity seen on the customer (Inactive)'\n",
      " 'Not Scored: No Updates available in last 36 months'\n",
      " 'Not Scored: Not Enough Info available on the customer'\n",
      " 'Not Scored: Only a Guarantor'\n",
      " 'Not Scored: Sufficient History Not Available']\n"
     ]
    }
   ],
   "source": [
    "print(np.unique(train['PERFORM_CNS.SCORE.DESCRIPTION']))"
   ]
  },
  {
   "cell_type": "code",
   "execution_count": 15,
   "metadata": {},
   "outputs": [
    {
     "data": {
      "image/png": "[encoded data removed]",
      "text/plain": [
       "<Figure size 432x288 with 1 Axes>"
      ]
     },
     "metadata": {},
     "output_type": "display_data"
    }
   ],
   "source": [
    "PERFORM_CNS_mapping = {'A-Very Low Risk': 1,\n",
    "               'B-Very Low Risk': 2,\n",
    "               'C-Very Low Risk': 3,\n",
    "               'D-Very Low Risk': 4,\n",
    "               'E-Low Risk': 5,\n",
    "               'F-Low Risk': 6,\n",
    "               'G-Low Risk': 7,\n",
    "               'H-Medium Risk':8,\n",
    "               'I-Medium Risk':9,\n",
    "               'J-High Risk':10,\n",
    "               'K-High Risk':11,\n",
    "               'L-Very High Risk':12,\n",
    "               'M-Very High Risk':13,\n",
    "               'No Bureau History Available':14,\n",
    "               'Not Scored: More than 50 active Accounts found':15,\n",
    "               'Not Scored: No Activity seen on the customer (Inactive)':16,\n",
    "               'Not Scored: No Updates available in last 36 months':17,\n",
    "               'Not Scored: Not Enough Info available on the customer':18,\n",
    "               'Not Scored: Only a Guarantor':19,\n",
    "               'Not Scored: Sufficient History Not Available':20\n",
    "              }\n",
    "train['PERFORM_CNS_bound'] = train['PERFORM_CNS.SCORE.DESCRIPTION'].map(PERFORM_CNS_mapping)\n",
    "test['PERFORM_CNS_bound'] = test['PERFORM_CNS.SCORE.DESCRIPTION'].map(PERFORM_CNS_mapping)\n",
    "#draw a bar plot of Age vs. survival\n",
    "sns.barplot(x=\"PERFORM_CNS_bound\", y=\"loan_default\", data=train)\n",
    "plt.show()"
   ]
  },
  {
   "cell_type": "code",
   "execution_count": 16,
   "metadata": {},
   "outputs": [],
   "source": [
    "train['total_accounts'] = train['PRI.NO.OF.ACCTS']+train['SEC.NO.OF.ACCTS']\n",
    "test['total_accounts'] = test['PRI.NO.OF.ACCTS']+test['SEC.NO.OF.ACCTS']\n",
    "\n",
    "train['total_activate_accounts'] = train['PRI.ACTIVE.ACCTS']+train['SEC.ACTIVE.ACCTS']\n",
    "test['total_activate_accounts'] = test['PRI.ACTIVE.ACCTS']+test['SEC.ACTIVE.ACCTS']\n",
    "\n",
    "train['total_overdue_accounts'] = train['PRI.OVERDUE.ACCTS']+train['SEC.OVERDUE.ACCTS']\n",
    "test['total_overdue_accounts'] = test['PRI.OVERDUE.ACCTS']+test['SEC.OVERDUE.ACCTS']\n",
    "\n",
    "train['total_installment_amount'] = train['PRIMARY.INSTAL.AMT']+train['SEC.INSTAL.AMT']\n",
    "test['total_installment_amount'] = test['PRIMARY.INSTAL.AMT']+test['SEC.INSTAL.AMT']\n"
   ]
  },
  {
   "cell_type": "code",
   "execution_count": 17,
   "metadata": {},
   "outputs": [
    {
     "data": {
      "image/png": "[encoded data removed]",
      "text/plain": [
       "<Figure size 432x288 with 1 Axes>"
      ]
     },
     "metadata": {},
     "output_type": "display_data"
    }
   ],
   "source": [
    "sns.barplot(x=\"DELINQUENT.ACCTS.IN.LAST.SIX.MONTHS\", y=\"loan_default\", data=train)\n",
    "plt.show()"
   ]
  },
  {
   "cell_type": "code",
   "execution_count": 18,
   "metadata": {},
   "outputs": [
    {
     "data": {
      "image/png": "[encoded data removed]",
      "text/plain": [
       "<Figure size 432x288 with 1 Axes>"
      ]
     },
     "metadata": {},
     "output_type": "display_data"
    }
   ],
   "source": [
    "sns.barplot(x=\"NO.OF_INQUIRIES\", y=\"loan_default\", data=train)\n",
    "plt.show()"
   ]
  },
  {
   "cell_type": "code",
   "execution_count": 19,
   "metadata": {},
   "outputs": [
    {
     "name": "stdout",
     "output_type": "stream",
     "text": [
      "UniqueID                               0\n",
      "disbursed_amount                       0\n",
      "asset_cost                             0\n",
      "ltv                                    0\n",
      "branch_id                              0\n",
      "supplier_id                            0\n",
      "manufacturer_id                        0\n",
      "Current_pincode_ID                     0\n",
      "Date.of.Birth                          0\n",
      "Employment.Type                        0\n",
      "DisbursalDate                          0\n",
      "State_ID                               0\n",
      "Employee_code_ID                       0\n",
      "MobileNo_Avl_Flag                      0\n",
      "Aadhar_flag                            0\n",
      "PAN_flag                               0\n",
      "VoterID_flag                           0\n",
      "Driving_flag                           0\n",
      "Passport_flag                          0\n",
      "PERFORM_CNS.SCORE                      0\n",
      "PERFORM_CNS.SCORE.DESCRIPTION          0\n",
      "PRI.NO.OF.ACCTS                        0\n",
      "PRI.ACTIVE.ACCTS                       0\n",
      "PRI.OVERDUE.ACCTS                      0\n",
      "PRI.CURRENT.BALANCE                    0\n",
      "PRI.SANCTIONED.AMOUNT                  0\n",
      "PRI.DISBURSED.AMOUNT                   0\n",
      "SEC.NO.OF.ACCTS                        0\n",
      "SEC.ACTIVE.ACCTS                       0\n",
      "SEC.OVERDUE.ACCTS                      0\n",
      "SEC.CURRENT.BALANCE                    0\n",
      "SEC.SANCTIONED.AMOUNT                  0\n",
      "SEC.DISBURSED.AMOUNT                   0\n",
      "PRIMARY.INSTAL.AMT                     0\n",
      "SEC.INSTAL.AMT                         0\n",
      "NEW.ACCTS.IN.LAST.SIX.MONTHS           0\n",
      "DELINQUENT.ACCTS.IN.LAST.SIX.MONTHS    0\n",
      "AVERAGE.ACCT.AGE                       0\n",
      "CREDIT.HISTORY.LENGTH                  0\n",
      "NO.OF_INQUIRIES                        0\n",
      "loan_default                           0\n",
      "disbursed_amount_bound                 0\n",
      "asset_cost_bound                       0\n",
      "ltv_bound                              0\n",
      "age                                    0\n",
      "agec                                   0\n",
      "AgeGroup                               0\n",
      "doc_total                              0\n",
      "PERFORM_CNS_bound                      0\n",
      "total_accounts                         0\n",
      "total_activate_accounts                0\n",
      "total_overdue_accounts                 0\n",
      "total_installment_amount               0\n",
      "dtype: int64\n"
     ]
    }
   ],
   "source": [
    "nan_value_detail = pd.isnull(train).sum();\n",
    "print(nan_value_detail)"
   ]
  },
  {
   "cell_type": "code",
   "execution_count": 26,
   "metadata": {},
   "outputs": [],
   "source": [
    "from sklearn.model_selection import train_test_split\n",
    "x = train.drop(['UniqueID', 'disbursed_amount','asset_cost','ltv','branch_id','supplier_id','manufacturer_id','Current_pincode_ID','Date.of.Birth','DisbursalDate','State_ID','Employee_code_ID','MobileNo_Avl_Flag','Aadhar_flag','PAN_flag','VoterID_flag','Driving_flag','Passport_flag','PERFORM_CNS.SCORE.DESCRIPTION','PRI.NO.OF.ACCTS','PRI.ACTIVE.ACCTS','PRI.OVERDUE.ACCTS','PRI.CURRENT.BALANCE','PRI.SANCTIONED.AMOUNT','PRI.DISBURSED.AMOUNT','SEC.NO.OF.ACCTS','SEC.ACTIVE.ACCTS','SEC.OVERDUE.ACCTS','SEC.CURRENT.BALANCE','SEC.SANCTIONED.AMOUNT','SEC.DISBURSED.AMOUNT','PRIMARY.INSTAL.AMT','SEC.INSTAL.AMT','AVERAGE.ACCT.AGE','CREDIT.HISTORY.LENGTH','loan_default','age','agec'], axis=1)\n",
    "y = train[\"loan_default\"]\n",
    "x_train, x_val, y_train, y_val = train_test_split(x, y, test_size = 0.25, random_state = 0)\n"
   ]
  },
  {
   "cell_type": "code",
   "execution_count": 27,
   "metadata": {},
   "outputs": [
    {
     "name": "stdout",
     "output_type": "stream",
     "text": [
      "78.36\n",
      "78.36\n",
      "72.89\n",
      "76.87\n"
     ]
    }
   ],
   "source": [
    " #Gaussian Naive Bayes\n",
    "from sklearn.naive_bayes import GaussianNB\n",
    "from sklearn.metrics import accuracy_score\n",
    "gaussian = GaussianNB()\n",
    "gaussian.fit(x_train, y_train)\n",
    "y_pred = gaussian.predict(x_val)\n",
    "acc_gaussian = round(accuracy_score(y_pred, y_val) * 100, 2)\n",
    "print(acc_gaussian)\n",
    "\n",
    "# Logistic Regression\n",
    "from sklearn.linear_model import LogisticRegression\n",
    "logreg = LogisticRegression()\n",
    "logreg.fit(x_train, y_train)\n",
    "y_pred = logreg.predict(x_val)\n",
    "acc_logreg = round(accuracy_score(y_pred, y_val) * 100, 2)\n",
    "print(acc_logreg)\n",
    "\n",
    "#Decision Tree\n",
    "from sklearn.tree import DecisionTreeClassifier\n",
    "decisiontree = DecisionTreeClassifier()\n",
    "decisiontree.fit(x_train, y_train)\n",
    "y_pred = decisiontree.predict(x_val)\n",
    "acc_decisiontree = round(accuracy_score(y_pred, y_val) * 100, 2)\n",
    "print(acc_decisiontree)\n",
    "\n",
    "# Random Forest\n",
    "from sklearn.ensemble import RandomForestClassifier\n",
    "randomforest = RandomForestClassifier()\n",
    "randomforest.fit(x_train, y_train)\n",
    "y_pred = randomforest.predict(x_val)\n",
    "acc_randomforest = round(accuracy_score(y_pred, y_val) * 100, 2)\n",
    "print(acc_randomforest)\n"
   ]
  },
  {
   "cell_type": "code",
   "execution_count": 33,
   "metadata": {},
   "outputs": [
    {
     "name": "stdout",
     "output_type": "stream",
     "text": [
      "53.92\n"
     ]
    },
    {
     "ename": "TypeError",
     "evalue": "__init__() got an unexpected keyword argument 'oob_score'",
     "output_type": "error",
     "traceback": [
      "\u001b[1;31m---------------------------------------------------------------------------\u001b[0m",
      "\u001b[1;31mTypeError\u001b[0m                                 Traceback (most recent call last)",
      "\u001b[1;32m<ipython-input-33-a1f2b6fdade6>\u001b[0m in \u001b[0;36m<module>\u001b[1;34m()\u001b[0m\n\u001b[0;32m      9\u001b[0m \u001b[1;31m# Gradient Boosting Classifier\u001b[0m\u001b[1;33m\u001b[0m\u001b[1;33m\u001b[0m\u001b[0m\n\u001b[0;32m     10\u001b[0m \u001b[1;32mfrom\u001b[0m \u001b[0msklearn\u001b[0m\u001b[1;33m.\u001b[0m\u001b[0mensemble\u001b[0m \u001b[1;32mimport\u001b[0m \u001b[0mGradientBoostingClassifier\u001b[0m\u001b[1;33m\u001b[0m\u001b[0m\n\u001b[1;32m---> 11\u001b[1;33m \u001b[0mgbk\u001b[0m \u001b[1;33m=\u001b[0m \u001b[0mGradientBoostingClassifier\u001b[0m\u001b[1;33m(\u001b[0m\u001b[0moob_score\u001b[0m \u001b[1;33m=\u001b[0m \u001b[1;32mTrue\u001b[0m\u001b[1;33m)\u001b[0m\u001b[1;33m\u001b[0m\u001b[0m\n\u001b[0m\u001b[0;32m     12\u001b[0m \u001b[0mgbk\u001b[0m\u001b[1;33m.\u001b[0m\u001b[0mfit\u001b[0m\u001b[1;33m(\u001b[0m\u001b[0mx_train\u001b[0m\u001b[1;33m,\u001b[0m \u001b[0my_train\u001b[0m\u001b[1;33m)\u001b[0m\u001b[1;33m\u001b[0m\u001b[0m\n\u001b[0;32m     13\u001b[0m \u001b[0my_pred\u001b[0m \u001b[1;33m=\u001b[0m \u001b[0mgbk\u001b[0m\u001b[1;33m.\u001b[0m\u001b[0mpredict\u001b[0m\u001b[1;33m(\u001b[0m\u001b[0mx_val\u001b[0m\u001b[1;33m)\u001b[0m\u001b[1;33m\u001b[0m\u001b[0m\n",
      "\u001b[1;31mTypeError\u001b[0m: __init__() got an unexpected keyword argument 'oob_score'"
     ]
    }
   ],
   "source": [
    "# Stochastic Gradient Descent\n",
    "from sklearn.linear_model import SGDClassifier\n",
    "sgd = SGDClassifier()\n",
    "sgd.fit(x_train, y_train)\n",
    "y_pred = sgd.predict(x_val)\n",
    "acc_sgd = round(accuracy_score(y_pred, y_val) * 100, 2)\n",
    "print(acc_sgd)\n",
    "\n",
    "# Gradient Boosting Classifier\n",
    "from sklearn.ensemble import GradientBoostingClassifier\n",
    "gbk = GradientBoostingClassifier()\n",
    "gbk.fit(x_train, y_train)\n",
    "y_pred = gbk.predict(x_val)\n",
    "acc_gbk = round(accuracy_score(y_pred, y_val) * 100, 2)\n",
    "print(acc_gbk)"
   ]
  },
  {
   "cell_type": "code",
   "execution_count": 29,
   "metadata": {},
   "outputs": [
    {
     "data": {
      "text/html": [
       "<div>\n",
       "<style scoped>\n",
       "    .dataframe tbody tr th:only-of-type {\n",
       "        vertical-align: middle;\n",
       "    }\n",
       "\n",
       "    .dataframe tbody tr th {\n",
       "        vertical-align: top;\n",
       "    }\n",
       "\n",
       "    .dataframe thead th {\n",
       "        text-align: right;\n",
       "    }\n",
       "</style>\n",
       "<table border=\"1\" class=\"dataframe\">\n",
       "  <thead>\n",
       "    <tr style=\"text-align: right;\">\n",
       "      <th></th>\n",
       "      <th>Model</th>\n",
       "      <th>Score</th>\n",
       "    </tr>\n",
       "  </thead>\n",
       "  <tbody>\n",
       "    <tr>\n",
       "      <th>5</th>\n",
       "      <td>Gradient Boosting Classifier</td>\n",
       "      <td>78.37</td>\n",
       "    </tr>\n",
       "    <tr>\n",
       "      <th>0</th>\n",
       "      <td>Logistic Regression</td>\n",
       "      <td>78.36</td>\n",
       "    </tr>\n",
       "    <tr>\n",
       "      <th>2</th>\n",
       "      <td>Naive Bayes</td>\n",
       "      <td>78.36</td>\n",
       "    </tr>\n",
       "    <tr>\n",
       "      <th>1</th>\n",
       "      <td>Random Forest</td>\n",
       "      <td>76.87</td>\n",
       "    </tr>\n",
       "    <tr>\n",
       "      <th>4</th>\n",
       "      <td>Stochastic Gradient Descent</td>\n",
       "      <td>76.08</td>\n",
       "    </tr>\n",
       "    <tr>\n",
       "      <th>3</th>\n",
       "      <td>Decision Tree</td>\n",
       "      <td>72.89</td>\n",
       "    </tr>\n",
       "  </tbody>\n",
       "</table>\n",
       "</div>"
      ],
      "text/plain": [
       "                          Model  Score\n",
       "5  Gradient Boosting Classifier  78.37\n",
       "0           Logistic Regression  78.36\n",
       "2                   Naive Bayes  78.36\n",
       "1                 Random Forest  76.87\n",
       "4   Stochastic Gradient Descent  76.08\n",
       "3                 Decision Tree  72.89"
      ]
     },
     "execution_count": 29,
     "metadata": {},
     "output_type": "execute_result"
    }
   ],
   "source": [
    "models = pd.DataFrame({\n",
    "    'Model': ['Logistic Regression', \n",
    "              'Random Forest', 'Naive Bayes', \n",
    "              'Decision Tree', 'Stochastic Gradient Descent', 'Gradient Boosting Classifier'],\n",
    "    'Score': [acc_logreg, \n",
    "              acc_randomforest, acc_gaussian, acc_decisiontree,\n",
    "              acc_sgd, acc_gbk]})\n",
    "models.sort_values(by='Score', ascending=False)"
   ]
  },
  {
   "cell_type": "code",
   "execution_count": 34,
   "metadata": {},
   "outputs": [
    {
     "name": "stdout",
     "output_type": "stream",
     "text": [
      "Precision: 0.4514285714285714\n",
      "Recall: 0.0020790567924627613\n"
     ]
    },
    {
     "data": {
      "text/plain": [
       "0.004139051161815943"
      ]
     },
     "execution_count": 34,
     "metadata": {},
     "output_type": "execute_result"
    }
   ],
   "source": [
    "#confusion metrix\n",
    "from sklearn.model_selection import cross_val_predict\n",
    "from sklearn.metrics import confusion_matrix\n",
    "predictions = cross_val_predict(gbk, x_train, y_train, cv=3)\n",
    "CM = confusion_matrix(y_train, predictions)\n",
    "#precision and recall\n",
    "from sklearn.metrics import precision_score, recall_score\n",
    "print(\"Precision:\", precision_score(y_train, predictions))\n",
    "print(\"Recall:\",recall_score(y_train, predictions))\n",
    "#f1 score\n",
    "from sklearn.metrics import f1_score\n",
    "f1_score(y_train, predictions)"
   ]
  },
  {
   "cell_type": "code",
   "execution_count": null,
   "metadata": {},
   "outputs": [],
   "source": []
  }
 ],
 "metadata": {
  "kernelspec": {
   "display_name": "Python 3",
   "language": "python",
   "name": "python3"
  }
 },
 "nbformat": 4,
 "nbformat_minor": 2
}
