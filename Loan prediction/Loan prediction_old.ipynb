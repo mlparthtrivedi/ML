{
 "cells": [
  {
   "cell_type": "code",
   "execution_count": 1,
   "metadata": {},
   "outputs": [],
   "source": [
    "#Import Necessary Libraries\n",
    "import numpy as np\n",
    "import pandas as pd\n",
    "\n",
    "#visualization libraries\n",
    "\n",
    "import matplotlib.pyplot as plt\n",
    "import seaborn as sns\n",
    "%matplotlib inline\n",
    "\n",
    "#ignore warnings\n",
    "import warnings\n",
    "warnings.filterwarnings('ignore')\n",
    "sns.set(rc={'figure.figsize':(11.7,8.27)})\n",
    "#sns.set(rc={'figure.figsize':(31.7,28.27)})"
   ]
  },
  {
   "cell_type": "code",
   "execution_count": 2,
   "metadata": {},
   "outputs": [],
   "source": [
    "#Read in and Explore the Data\n",
    "train = pd.read_csv(\"train.csv\")\n",
    "test = pd.read_csv(\"test.csv\")"
   ]
  },
  {
   "cell_type": "code",
   "execution_count": 3,
   "metadata": {},
   "outputs": [
    {
     "name": "stdout",
     "output_type": "stream",
     "text": [
      "         Loan_ID Gender Married Dependents Education Self_Employed  \\\n",
      "count        614    601     611        599       614           582   \n",
      "unique       614      2       2          4         2             2   \n",
      "top     LP001841   Male     Yes          0  Graduate            No   \n",
      "freq           1    489     398        345       480           500   \n",
      "mean         NaN    NaN     NaN        NaN       NaN           NaN   \n",
      "std          NaN    NaN     NaN        NaN       NaN           NaN   \n",
      "min          NaN    NaN     NaN        NaN       NaN           NaN   \n",
      "25%          NaN    NaN     NaN        NaN       NaN           NaN   \n",
      "50%          NaN    NaN     NaN        NaN       NaN           NaN   \n",
      "75%          NaN    NaN     NaN        NaN       NaN           NaN   \n",
      "max          NaN    NaN     NaN        NaN       NaN           NaN   \n",
      "\n",
      "        ApplicantIncome  CoapplicantIncome  LoanAmount  Loan_Amount_Term  \\\n",
      "count        614.000000         614.000000  592.000000         600.00000   \n",
      "unique              NaN                NaN         NaN               NaN   \n",
      "top                 NaN                NaN         NaN               NaN   \n",
      "freq                NaN                NaN         NaN               NaN   \n",
      "mean        5403.459283        1621.245798  146.412162         342.00000   \n",
      "std         6109.041673        2926.248369   85.587325          65.12041   \n",
      "min          150.000000           0.000000    9.000000          12.00000   \n",
      "25%         2877.500000           0.000000  100.000000         360.00000   \n",
      "50%         3812.500000        1188.500000  128.000000         360.00000   \n",
      "75%         5795.000000        2297.250000  168.000000         360.00000   \n",
      "max        81000.000000       41667.000000  700.000000         480.00000   \n",
      "\n",
      "        Credit_History Property_Area Loan_Status  \n",
      "count       564.000000           614         614  \n",
      "unique             NaN             3           2  \n",
      "top                NaN     Semiurban           Y  \n",
      "freq               NaN           233         422  \n",
      "mean          0.842199           NaN         NaN  \n",
      "std           0.364878           NaN         NaN  \n",
      "min           0.000000           NaN         NaN  \n",
      "25%           1.000000           NaN         NaN  \n",
      "50%           1.000000           NaN         NaN  \n",
      "75%           1.000000           NaN         NaN  \n",
      "max           1.000000           NaN         NaN  \n"
     ]
    }
   ],
   "source": [
    "print(train.describe(include = \"all\"));"
   ]
  },
  {
   "cell_type": "code",
   "execution_count": 4,
   "metadata": {},
   "outputs": [
    {
     "name": "stdout",
     "output_type": "stream",
     "text": [
      "Loan_ID               0\n",
      "Gender               13\n",
      "Married               3\n",
      "Dependents           15\n",
      "Education             0\n",
      "Self_Employed        32\n",
      "ApplicantIncome       0\n",
      "CoapplicantIncome     0\n",
      "LoanAmount           22\n",
      "Loan_Amount_Term     14\n",
      "Credit_History       50\n",
      "Property_Area         0\n",
      "Loan_Status           0\n",
      "dtype: int64\n"
     ]
    }
   ],
   "source": [
    "nan_value_detail = pd.isnull(train).sum();\n",
    "print(nan_value_detail)"
   ]
  },
  {
   "cell_type": "code",
   "execution_count": 5,
   "metadata": {},
   "outputs": [
    {
     "name": "stdout",
     "output_type": "stream",
     "text": [
      "    Loan_ID Gender Married Dependents     Education Self_Employed  \\\n",
      "0  LP001002   Male      No          0      Graduate            No   \n",
      "1  LP001003   Male     Yes          1      Graduate            No   \n",
      "2  LP001005   Male     Yes          0      Graduate           Yes   \n",
      "3  LP001006   Male     Yes          0  Not Graduate            No   \n",
      "4  LP001008   Male      No          0      Graduate            No   \n",
      "\n",
      "   ApplicantIncome  CoapplicantIncome  LoanAmount  Loan_Amount_Term  \\\n",
      "0             5849                0.0         NaN             360.0   \n",
      "1             4583             1508.0       128.0             360.0   \n",
      "2             3000                0.0        66.0             360.0   \n",
      "3             2583             2358.0       120.0             360.0   \n",
      "4             6000                0.0       141.0             360.0   \n",
      "\n",
      "   Credit_History Property_Area Loan_Status  \n",
      "0             1.0         Urban           Y  \n",
      "1             1.0         Rural           N  \n",
      "2             1.0         Urban           Y  \n",
      "3             1.0         Urban           Y  \n",
      "4             1.0         Urban           Y  \n"
     ]
    }
   ],
   "source": [
    "print(train.head())"
   ]
  },
  {
   "cell_type": "code",
   "execution_count": 6,
   "metadata": {},
   "outputs": [
    {
     "name": "stdout",
     "output_type": "stream",
     "text": [
      "0    1\n",
      "1    0\n",
      "2    1\n",
      "3    1\n",
      "4    1\n",
      "Name: Loan_Status, dtype: int64\n"
     ]
    }
   ],
   "source": [
    "#loan status mapping\n",
    "load_status_mapping = {\"Y\": 1, \"N\": 0}\n",
    "train['Loan_Status'] = train['Loan_Status'].map(load_status_mapping)\n",
    "print(train['Loan_Status'].head())"
   ]
  },
  {
   "cell_type": "code",
   "execution_count": 7,
   "metadata": {},
   "outputs": [],
   "source": [
    "train[\"Gender\"] = train[\"Gender\"].fillna('Male')\n",
    "test[\"Gender\"] = test[\"Gender\"].fillna('Male')\n",
    "#mapping\n",
    "Gender_mapping = {\"Male\": 1, \"Female\": 2}\n",
    "train['Gender'] = train['Gender'].map(Gender_mapping)\n",
    "test['Gender'] = test['Gender'].map(Gender_mapping)"
   ]
  },
  {
   "cell_type": "code",
   "execution_count": 8,
   "metadata": {},
   "outputs": [
    {
     "data": {
      "text/plain": [
       "<matplotlib.axes._subplots.AxesSubplot at 0x2045749bb00>"
      ]
     },
     "execution_count": 8,
     "metadata": {},
     "output_type": "execute_result"
    },
    {
     "data": {
      "image/png": "[encoded data removed]",
      "text/plain": [
       "<Figure size 432x288 with 1 Axes>"
      ]
     },
     "metadata": {},
     "output_type": "display_data"
    }
   ],
   "source": [
    "sns.barplot(x=\"Gender\", y=\"Loan_Status\", data=train)"
   ]
  },
  {
   "cell_type": "code",
   "execution_count": 9,
   "metadata": {},
   "outputs": [],
   "source": [
    "train[\"Married\"] = train[\"Married\"].fillna('Yes')\n",
    "test[\"Married\"] = test[\"Married\"].fillna('Yes')\n",
    "#mapping\n",
    "Marriage_mapping = {\"Yes\": 1, \"No\": 2}\n",
    "train['Married'] = train['Married'].map(Marriage_mapping)\n",
    "test['Married'] = test['Married'].map(Marriage_mapping)"
   ]
  },
  {
   "cell_type": "code",
   "execution_count": 10,
   "metadata": {},
   "outputs": [
    {
     "data": {
      "text/plain": [
       "<matplotlib.axes._subplots.AxesSubplot at 0x2045d73f7b8>"
      ]
     },
     "execution_count": 10,
     "metadata": {},
     "output_type": "execute_result"
    },
    {
     "data": {
      "image/png": "[encoded data removed]",
      "text/plain": [
       "<Figure size 432x288 with 1 Axes>"
      ]
     },
     "metadata": {},
     "output_type": "display_data"
    }
   ],
   "source": [
    "sns.barplot(x=\"Married\", y=\"Loan_Status\", data=train)"
   ]
  },
  {
   "cell_type": "code",
   "execution_count": 11,
   "metadata": {},
   "outputs": [],
   "source": [
    "train[\"Dependents\"] = train[\"Dependents\"].fillna(\"0\")\n",
    "test[\"Dependents\"] = test[\"Dependents\"].fillna(\"0\")"
   ]
  },
  {
   "cell_type": "code",
   "execution_count": 12,
   "metadata": {},
   "outputs": [
    {
     "data": {
      "text/plain": [
       "<matplotlib.axes._subplots.AxesSubplot at 0x2045d7a16a0>"
      ]
     },
     "execution_count": 12,
     "metadata": {},
     "output_type": "execute_result"
    },
    {
     "data": {
      "image/png": "[encoded data removed]",
      "text/plain": [
       "<Figure size 432x288 with 1 Axes>"
      ]
     },
     "metadata": {},
     "output_type": "display_data"
    }
   ],
   "source": [
    "sns.barplot(x=\"Dependents\", y=\"Loan_Status\", data=train)"
   ]
  },
  {
   "cell_type": "code",
   "execution_count": 13,
   "metadata": {},
   "outputs": [
    {
     "data": {
      "text/plain": [
       "<matplotlib.axes._subplots.AxesSubplot at 0x2045d805a20>"
      ]
     },
     "execution_count": 13,
     "metadata": {},
     "output_type": "execute_result"
    },
    {
     "data": {
      "image/png": "[encoded data removed]",
      "text/plain": [
       "<Figure size 432x288 with 1 Axes>"
      ]
     },
     "metadata": {},
     "output_type": "display_data"
    }
   ],
   "source": [
    "sns.barplot(x=\"Education\", y=\"Loan_Status\", data=train)"
   ]
  },
  {
   "cell_type": "code",
   "execution_count": 14,
   "metadata": {},
   "outputs": [
    {
     "data": {
      "text/plain": [
       "<matplotlib.axes._subplots.AxesSubplot at 0x2045d857f98>"
      ]
     },
     "execution_count": 14,
     "metadata": {},
     "output_type": "execute_result"
    },
    {
     "data": {
      "image/png": "[encoded data removed]",
      "text/plain": [
       "<Figure size 432x288 with 1 Axes>"
      ]
     },
     "metadata": {},
     "output_type": "display_data"
    }
   ],
   "source": [
    "train[\"Self_Employed\"] = train[\"Self_Employed\"].fillna(\"No\")\n",
    "test[\"Self_Employed\"] = test[\"Self_Employed\"].fillna(\"No\")\n",
    "sns.barplot(x=\"Self_Employed\", y=\"Loan_Status\", data=train)"
   ]
  },
  {
   "cell_type": "code",
   "execution_count": 15,
   "metadata": {},
   "outputs": [],
   "source": [
    "train['Total_income'] = train['ApplicantIncome']+train['CoapplicantIncome']\n",
    "test['Total_income'] = test['ApplicantIncome']+test['CoapplicantIncome']"
   ]
  },
  {
   "cell_type": "code",
   "execution_count": 16,
   "metadata": {},
   "outputs": [
    {
     "name": "stdout",
     "output_type": "stream",
     "text": [
      "    Loan_ID  Gender  Married Dependents     Education Self_Employed  \\\n",
      "0  LP001002       1        2          0      Graduate            No   \n",
      "1  LP001003       1        1          1      Graduate            No   \n",
      "2  LP001005       1        1          0      Graduate           Yes   \n",
      "3  LP001006       1        1          0  Not Graduate            No   \n",
      "4  LP001008       1        2          0      Graduate            No   \n",
      "\n",
      "   ApplicantIncome  CoapplicantIncome  LoanAmount  Loan_Amount_Term  \\\n",
      "0             5849                0.0         NaN             360.0   \n",
      "1             4583             1508.0       128.0             360.0   \n",
      "2             3000                0.0        66.0             360.0   \n",
      "3             2583             2358.0       120.0             360.0   \n",
      "4             6000                0.0       141.0             360.0   \n",
      "\n",
      "   Credit_History Property_Area  Loan_Status  Total_income  \n",
      "0             1.0         Urban            1        5849.0  \n",
      "1             1.0         Rural            0        6091.0  \n",
      "2             1.0         Urban            1        3000.0  \n",
      "3             1.0         Urban            1        4941.0  \n",
      "4             1.0         Urban            1        6000.0  \n"
     ]
    }
   ],
   "source": [
    "print(train.head())"
   ]
  },
  {
   "cell_type": "code",
   "execution_count": 17,
   "metadata": {},
   "outputs": [
    {
     "data": {
      "text/plain": [
       "<matplotlib.axes._subplots.AxesSubplot at 0x2045d8fbac8>"
      ]
     },
     "execution_count": 17,
     "metadata": {},
     "output_type": "execute_result"
    },
    {
     "data": {
      "image/png": "[encoded data removed]",
      "text/plain": [
       "<Figure size 432x288 with 1 Axes>"
      ]
     },
     "metadata": {},
     "output_type": "display_data"
    }
   ],
   "source": [
    "\n",
    "sns.regplot(x=\"Total_income\", y=\"Loan_Status\", data=train)"
   ]
  },
  {
   "cell_type": "code",
   "execution_count": 18,
   "metadata": {},
   "outputs": [
    {
     "data": {
      "text/plain": [
       "<matplotlib.axes._subplots.AxesSubplot at 0x2045d983e10>"
      ]
     },
     "execution_count": 18,
     "metadata": {},
     "output_type": "execute_result"
    },
    {
     "data": {
      "image/png": "[encoded data removed]",
      "text/plain": [
       "<Figure size 432x288 with 1 Axes>"
      ]
     },
     "metadata": {},
     "output_type": "display_data"
    }
   ],
   "source": [
    "train[\"LoanAmount\"] = train[\"LoanAmount\"].fillna(np.mean(train['LoanAmount']))\n",
    "test[\"LoanAmount\"] = test[\"LoanAmount\"].fillna(np.mean(test['LoanAmount']))\n",
    "sns.regplot(x=\"LoanAmount\", y=\"Loan_Status\", data=train)"
   ]
  },
  {
   "cell_type": "code",
   "execution_count": 19,
   "metadata": {},
   "outputs": [
    {
     "data": {
      "text/plain": [
       "<matplotlib.axes._subplots.AxesSubplot at 0x2045d9f13c8>"
      ]
     },
     "execution_count": 19,
     "metadata": {},
     "output_type": "execute_result"
    },
    {
     "data": {
      "image/png": "[encoded data removed]",
      "text/plain": [
       "<Figure size 432x288 with 1 Axes>"
      ]
     },
     "metadata": {},
     "output_type": "display_data"
    }
   ],
   "source": [
    "train[\"Loan_Amount_Term\"] = train[\"Loan_Amount_Term\"].fillna(np.mean(train['Loan_Amount_Term']))\n",
    "test[\"Loan_Amount_Term\"] = test[\"Loan_Amount_Term\"].fillna(np.mean(test['Loan_Amount_Term']))\n",
    "sns.regplot(x=\"Loan_Amount_Term\", y=\"Loan_Status\", data=train)"
   ]
  },
  {
   "cell_type": "code",
   "execution_count": 20,
   "metadata": {},
   "outputs": [
    {
     "data": {
      "text/plain": [
       "<matplotlib.axes._subplots.AxesSubplot at 0x2045da55358>"
      ]
     },
     "execution_count": 20,
     "metadata": {},
     "output_type": "execute_result"
    },
    {
     "data": {
      "image/png": "[encoded data removed]",
      "text/plain": [
       "<Figure size 432x288 with 1 Axes>"
      ]
     },
     "metadata": {},
     "output_type": "display_data"
    }
   ],
   "source": [
    "train[\"Credit_History\"] = train[\"Credit_History\"].fillna(1)\n",
    "test[\"Credit_History\"] = test[\"Credit_History\"].fillna(1)\n",
    "sns.barplot(x=\"Credit_History\", y=\"Loan_Status\", data=train)"
   ]
  },
  {
   "cell_type": "code",
   "execution_count": 21,
   "metadata": {},
   "outputs": [],
   "source": [
    "#make data ready "
   ]
  },
  {
   "cell_type": "code",
   "execution_count": 22,
   "metadata": {},
   "outputs": [],
   "source": [
    "dtrain = train\n",
    "dtest = test"
   ]
  },
  {
   "cell_type": "code",
   "execution_count": 23,
   "metadata": {},
   "outputs": [
    {
     "name": "stdout",
     "output_type": "stream",
     "text": [
      "    Loan_ID  Gender  Married Dependents     Education Self_Employed  \\\n",
      "0  LP001002       1        2          0      Graduate            No   \n",
      "1  LP001003       1        1          1      Graduate            No   \n",
      "2  LP001005       1        1          0      Graduate           Yes   \n",
      "3  LP001006       1        1          0  Not Graduate            No   \n",
      "4  LP001008       1        2          0      Graduate            No   \n",
      "\n",
      "   ApplicantIncome  CoapplicantIncome  LoanAmount  Loan_Amount_Term  \\\n",
      "0             5849                0.0  146.412162             360.0   \n",
      "1             4583             1508.0  128.000000             360.0   \n",
      "2             3000                0.0   66.000000             360.0   \n",
      "3             2583             2358.0  120.000000             360.0   \n",
      "4             6000                0.0  141.000000             360.0   \n",
      "\n",
      "   Credit_History Property_Area  Loan_Status  Total_income  \n",
      "0             1.0         Urban            1        5849.0  \n",
      "1             1.0         Rural            0        6091.0  \n",
      "2             1.0         Urban            1        3000.0  \n",
      "3             1.0         Urban            1        4941.0  \n",
      "4             1.0         Urban            1        6000.0  \n"
     ]
    }
   ],
   "source": [
    "print(dtrain.head())"
   ]
  },
  {
   "cell_type": "code",
   "execution_count": 24,
   "metadata": {},
   "outputs": [],
   "source": [
    "dtrain = dtrain.drop(['Loan_ID'], axis=1)\n",
    "dtest = dtest.drop(['Loan_ID'], axis=1)\n",
    "#x = dtrain.drop(['Loan_Status'], axis=1)\n",
    "#y = dtrain[\"Loan_Status\"]"
   ]
  },
  {
   "cell_type": "code",
   "execution_count": 25,
   "metadata": {},
   "outputs": [],
   "source": [
    "#make all fields numeric \n",
    "#map each Education value to a numerical value\n",
    "Education_mapping = {\"Graduate\": 1, \"Not Graduate\": 0}\n",
    "dtrain['Education'] = dtrain['Education'].map(Education_mapping)\n",
    "dtest['Education'] = dtest['Education'].map(Education_mapping)"
   ]
  },
  {
   "cell_type": "code",
   "execution_count": 26,
   "metadata": {},
   "outputs": [],
   "source": [
    "#map each Self_Employed value to a numerical value\n",
    "Self_Employed_mapping = {\"No\": 0, \"Yes\": 1}\n",
    "dtrain['Self_Employed'] = dtrain['Self_Employed'].map(Self_Employed_mapping)\n",
    "dtest['Self_Employed'] = dtest['Self_Employed'].map(Self_Employed_mapping)"
   ]
  },
  {
   "cell_type": "code",
   "execution_count": 27,
   "metadata": {},
   "outputs": [],
   "source": [
    "#map each Property_Area value to a numerical value\n",
    "Property_Area_mapping = {\"Rural\": 0, \"Semiurban\": 1, \"Urban\": 2}\n",
    "dtrain['Property_Area'] = dtrain['Property_Area'].map(Property_Area_mapping)\n",
    "dtest['Property_Area'] = dtest['Property_Area'].map(Property_Area_mapping)"
   ]
  },
  {
   "cell_type": "code",
   "execution_count": 29,
   "metadata": {},
   "outputs": [],
   "source": [
    "#map each Property_Area value to a numerical value\n",
    "Dependents_Area_mapping = {\"0\": 0, \"1\": 1, \"2\": 2, \"3+\": 3}\n",
    "dtrain['Dependents'] = dtrain['Dependents'].map(Dependents_Area_mapping)\n",
    "dtest['Dependents'] = dtest['Dependents'].map(Dependents_Area_mapping)"
   ]
  },
  {
   "cell_type": "code",
   "execution_count": 31,
   "metadata": {},
   "outputs": [
    {
     "name": "stdout",
     "output_type": "stream",
     "text": [
      "     Gender  Married  Dependents  Education  Self_Employed  ApplicantIncome  \\\n",
      "0         1        2           0          1              0             5849   \n",
      "1         1        1           1          1              0             4583   \n",
      "2         1        1           0          1              1             3000   \n",
      "3         1        1           0          0              0             2583   \n",
      "4         1        2           0          1              0             6000   \n",
      "5         1        1           2          1              1             5417   \n",
      "6         1        1           0          0              0             2333   \n",
      "7         1        1           3          1              0             3036   \n",
      "8         1        1           2          1              0             4006   \n",
      "9         1        1           1          1              0            12841   \n",
      "10        1        1           2          1              0             3200   \n",
      "11        1        1           2          1              0             2500   \n",
      "12        1        1           2          1              0             3073   \n",
      "13        1        2           0          1              0             1853   \n",
      "14        1        1           2          1              0             1299   \n",
      "15        1        2           0          1              0             4950   \n",
      "16        1        2           1          0              0             3596   \n",
      "17        2        2           0          1              0             3510   \n",
      "18        1        1           0          0              0             4887   \n",
      "19        1        1           0          1              0             2600   \n",
      "20        1        1           0          0              0             7660   \n",
      "21        1        1           1          1              0             5955   \n",
      "22        1        1           0          0              0             2600   \n",
      "23        1        1           2          0              0             3365   \n",
      "24        1        1           1          1              0             3717   \n",
      "25        1        1           0          1              1             9560   \n",
      "26        1        1           0          1              0             2799   \n",
      "27        1        1           2          0              0             4226   \n",
      "28        1        2           0          0              0             1442   \n",
      "29        2        2           2          1              0             3750   \n",
      "..      ...      ...         ...        ...            ...              ...   \n",
      "584       1        1           1          1              0             2787   \n",
      "585       1        1           1          1              0             4283   \n",
      "586       1        1           0          1              0             2297   \n",
      "587       2        2           0          0              0             2165   \n",
      "588       1        2           0          1              0             4750   \n",
      "589       1        1           2          1              1             2726   \n",
      "590       1        1           0          1              0             3000   \n",
      "591       1        1           2          1              1             6000   \n",
      "592       1        2           3          1              1             9357   \n",
      "593       1        1           0          1              0             3859   \n",
      "594       1        1           0          1              1            16120   \n",
      "595       1        2           0          0              0             3833   \n",
      "596       1        1           2          0              1             6383   \n",
      "597       1        2           0          1              0             2987   \n",
      "598       1        1           0          1              1             9963   \n",
      "599       1        1           2          1              0             5780   \n",
      "600       2        2           3          1              0              416   \n",
      "601       1        1           0          0              0             2894   \n",
      "602       1        1           3          1              0             5703   \n",
      "603       1        2           0          1              0             3676   \n",
      "604       2        1           1          1              0            12000   \n",
      "605       1        1           0          0              0             2400   \n",
      "606       1        1           1          1              0             3400   \n",
      "607       1        1           2          0              0             3987   \n",
      "608       1        1           0          1              0             3232   \n",
      "609       2        2           0          1              0             2900   \n",
      "610       1        1           3          1              0             4106   \n",
      "611       1        1           1          1              0             8072   \n",
      "612       1        1           2          1              0             7583   \n",
      "613       2        2           0          1              1             4583   \n",
      "\n",
      "     CoapplicantIncome  LoanAmount  Loan_Amount_Term  Credit_History  \\\n",
      "0                  0.0  146.412162             360.0             1.0   \n",
      "1               1508.0  128.000000             360.0             1.0   \n",
      "2                  0.0   66.000000             360.0             1.0   \n",
      "3               2358.0  120.000000             360.0             1.0   \n",
      "4                  0.0  141.000000             360.0             1.0   \n",
      "5               4196.0  267.000000             360.0             1.0   \n",
      "6               1516.0   95.000000             360.0             1.0   \n",
      "7               2504.0  158.000000             360.0             0.0   \n",
      "8               1526.0  168.000000             360.0             1.0   \n",
      "9              10968.0  349.000000             360.0             1.0   \n",
      "10               700.0   70.000000             360.0             1.0   \n",
      "11              1840.0  109.000000             360.0             1.0   \n",
      "12              8106.0  200.000000             360.0             1.0   \n",
      "13              2840.0  114.000000             360.0             1.0   \n",
      "14              1086.0   17.000000             120.0             1.0   \n",
      "15                 0.0  125.000000             360.0             1.0   \n",
      "16                 0.0  100.000000             240.0             1.0   \n",
      "17                 0.0   76.000000             360.0             0.0   \n",
      "18                 0.0  133.000000             360.0             1.0   \n",
      "19              3500.0  115.000000             342.0             1.0   \n",
      "20                 0.0  104.000000             360.0             0.0   \n",
      "21              5625.0  315.000000             360.0             1.0   \n",
      "22              1911.0  116.000000             360.0             0.0   \n",
      "23              1917.0  112.000000             360.0             0.0   \n",
      "24              2925.0  151.000000             360.0             1.0   \n",
      "25                 0.0  191.000000             360.0             1.0   \n",
      "26              2253.0  122.000000             360.0             1.0   \n",
      "27              1040.0  110.000000             360.0             1.0   \n",
      "28                 0.0   35.000000             360.0             1.0   \n",
      "29              2083.0  120.000000             360.0             1.0   \n",
      "..                 ...         ...               ...             ...   \n",
      "584             1917.0  146.000000             360.0             0.0   \n",
      "585             3000.0  172.000000              84.0             1.0   \n",
      "586             1522.0  104.000000             360.0             1.0   \n",
      "587                0.0   70.000000             360.0             1.0   \n",
      "588                0.0   94.000000             360.0             1.0   \n",
      "589                0.0  106.000000             360.0             0.0   \n",
      "590             3416.0   56.000000             180.0             1.0   \n",
      "591                0.0  205.000000             240.0             1.0   \n",
      "592                0.0  292.000000             360.0             1.0   \n",
      "593             3300.0  142.000000             180.0             1.0   \n",
      "594                0.0  260.000000             360.0             1.0   \n",
      "595                0.0  110.000000             360.0             1.0   \n",
      "596             1000.0  187.000000             360.0             1.0   \n",
      "597                0.0   88.000000             360.0             0.0   \n",
      "598                0.0  180.000000             360.0             1.0   \n",
      "599                0.0  192.000000             360.0             1.0   \n",
      "600            41667.0  350.000000             180.0             1.0   \n",
      "601             2792.0  155.000000             360.0             1.0   \n",
      "602                0.0  128.000000             360.0             1.0   \n",
      "603             4301.0  172.000000             360.0             1.0   \n",
      "604                0.0  496.000000             360.0             1.0   \n",
      "605             3800.0  146.412162             180.0             1.0   \n",
      "606             2500.0  173.000000             360.0             1.0   \n",
      "607             1411.0  157.000000             360.0             1.0   \n",
      "608             1950.0  108.000000             360.0             1.0   \n",
      "609                0.0   71.000000             360.0             1.0   \n",
      "610                0.0   40.000000             180.0             1.0   \n",
      "611              240.0  253.000000             360.0             1.0   \n",
      "612                0.0  187.000000             360.0             1.0   \n",
      "613                0.0  133.000000             360.0             0.0   \n",
      "\n",
      "     Property_Area  Loan_Status  Total_income  \n",
      "0                2            1        5849.0  \n",
      "1                0            0        6091.0  \n",
      "2                2            1        3000.0  \n",
      "3                2            1        4941.0  \n",
      "4                2            1        6000.0  \n",
      "5                2            1        9613.0  \n",
      "6                2            1        3849.0  \n",
      "7                1            0        5540.0  \n",
      "8                2            1        5532.0  \n",
      "9                1            0       23809.0  \n",
      "10               2            1        3900.0  \n",
      "11               2            1        4340.0  \n",
      "12               2            1       11179.0  \n",
      "13               0            0        4693.0  \n",
      "14               2            1        2385.0  \n",
      "15               2            1        4950.0  \n",
      "16               2            1        3596.0  \n",
      "17               2            0        3510.0  \n",
      "18               0            0        4887.0  \n",
      "19               2            1        6100.0  \n",
      "20               2            0        7660.0  \n",
      "21               2            1       11580.0  \n",
      "22               1            0        4511.0  \n",
      "23               0            0        5282.0  \n",
      "24               1            0        6642.0  \n",
      "25               1            1        9560.0  \n",
      "26               1            1        5052.0  \n",
      "27               2            1        5266.0  \n",
      "28               2            0        1442.0  \n",
      "29               1            1        5833.0  \n",
      "..             ...          ...           ...  \n",
      "584              0            0        4704.0  \n",
      "585              0            0        7283.0  \n",
      "586              2            1        3819.0  \n",
      "587              1            1        2165.0  \n",
      "588              1            1        4750.0  \n",
      "589              1            0        2726.0  \n",
      "590              1            1        6416.0  \n",
      "591              1            0        6000.0  \n",
      "592              1            1        9357.0  \n",
      "593              0            1        7159.0  \n",
      "594              2            1       16120.0  \n",
      "595              0            1        3833.0  \n",
      "596              0            0        7383.0  \n",
      "597              1            0        2987.0  \n",
      "598              0            1        9963.0  \n",
      "599              2            1        5780.0  \n",
      "600              2            0       42083.0  \n",
      "601              0            1        5686.0  \n",
      "602              2            1        5703.0  \n",
      "603              0            1        7977.0  \n",
      "604              1            1       12000.0  \n",
      "605              2            0        6200.0  \n",
      "606              1            1        5900.0  \n",
      "607              0            1        5398.0  \n",
      "608              0            1        5182.0  \n",
      "609              0            1        2900.0  \n",
      "610              0            1        4106.0  \n",
      "611              2            1        8312.0  \n",
      "612              2            1        7583.0  \n",
      "613              1            0        4583.0  \n",
      "\n",
      "[614 rows x 13 columns]\n"
     ]
    }
   ],
   "source": [
    "print(dtrain)"
   ]
  },
  {
   "cell_type": "code",
   "execution_count": 32,
   "metadata": {},
   "outputs": [],
   "source": [
    "#Choosing the Best Model\n",
    "from sklearn.model_selection import train_test_split\n",
    "x = dtrain.drop(['Loan_Status'], axis=1)\n",
    "y = dtrain[\"Loan_Status\"]\n",
    "x_train, x_val, y_train, y_val = train_test_split(x, y, test_size = 0.22, random_state = 0)"
   ]
  },
  {
   "cell_type": "code",
   "execution_count": 34,
   "metadata": {},
   "outputs": [
    {
     "name": "stdout",
     "output_type": "stream",
     "text": [
      "81.62\n",
      "82.35\n",
      "72.79\n",
      "69.85\n",
      "78.68\n",
      "63.24\n",
      "72.06\n",
      "77.94\n"
     ]
    }
   ],
   "source": [
    "# Gaussian Naive Bayes\n",
    "from sklearn.naive_bayes import GaussianNB\n",
    "from sklearn.metrics import accuracy_score\n",
    "gaussian = GaussianNB()\n",
    "gaussian.fit(x_train, y_train)\n",
    "y_pred = gaussian.predict(x_val)\n",
    "acc_gaussian = round(accuracy_score(y_pred, y_val) * 100, 2)\n",
    "print(acc_gaussian)\n",
    "\n",
    "# Logistic Regression\n",
    "from sklearn.linear_model import LogisticRegression\n",
    "logreg = LogisticRegression()\n",
    "logreg.fit(x_train, y_train)\n",
    "y_pred = logreg.predict(x_val)\n",
    "acc_logreg = round(accuracy_score(y_pred, y_val) * 100, 2)\n",
    "print(acc_logreg)\n",
    "\n",
    "# Support Vector Machines\n",
    "from sklearn.svm import SVC\n",
    "svc = SVC()\n",
    "svc.fit(x_train, y_train)\n",
    "y_pred = svc.predict(x_val)\n",
    "acc_svc = round(accuracy_score(y_pred, y_val) * 100, 2)\n",
    "print(acc_svc)\n",
    "\n",
    "#Decision Tree\n",
    "from sklearn.tree import DecisionTreeClassifier\n",
    "decisiontree = DecisionTreeClassifier()\n",
    "decisiontree.fit(x_train, y_train)\n",
    "y_pred = decisiontree.predict(x_val)\n",
    "acc_decisiontree = round(accuracy_score(y_pred, y_val) * 100, 2)\n",
    "print(acc_decisiontree)\n",
    "\n",
    "# Random Forest\n",
    "from sklearn.ensemble import RandomForestClassifier\n",
    "randomforest = RandomForestClassifier()\n",
    "randomforest.fit(x_train, y_train)\n",
    "y_pred = randomforest.predict(x_val)\n",
    "acc_randomforest = round(accuracy_score(y_pred, y_val) * 100, 2)\n",
    "print(acc_randomforest)\n",
    "\n",
    "# KNN or k-Nearest Neighbors\n",
    "from sklearn.neighbors import KNeighborsClassifier\n",
    "knn = KNeighborsClassifier()\n",
    "knn.fit(x_train, y_train)\n",
    "y_pred = knn.predict(x_val)\n",
    "acc_knn = round(accuracy_score(y_pred, y_val) * 100, 2)\n",
    "print(acc_knn)\n",
    "\n",
    "\n",
    "# Stochastic Gradient Descent\n",
    "from sklearn.linear_model import SGDClassifier\n",
    "sgd = SGDClassifier()\n",
    "sgd.fit(x_train, y_train)\n",
    "y_pred = sgd.predict(x_val)\n",
    "acc_sgd = round(accuracy_score(y_pred, y_val) * 100, 2)\n",
    "print(acc_sgd)\n",
    "\n",
    "# Gradient Boosting Classifier\n",
    "from sklearn.ensemble import GradientBoostingClassifier\n",
    "gbk = GradientBoostingClassifier()\n",
    "gbk.fit(x_train, y_train)\n",
    "y_pred = gbk.predict(x_val)\n",
    "acc_gbk = round(accuracy_score(y_pred, y_val) * 100, 2)\n",
    "print(acc_gbk)"
   ]
  },
  {
   "cell_type": "code",
   "execution_count": 35,
   "metadata": {},
   "outputs": [
    {
     "data": {
      "text/html": [
       "<div>\n",
       "<style scoped>\n",
       "    .dataframe tbody tr th:only-of-type {\n",
       "        vertical-align: middle;\n",
       "    }\n",
       "\n",
       "    .dataframe tbody tr th {\n",
       "        vertical-align: top;\n",
       "    }\n",
       "\n",
       "    .dataframe thead th {\n",
       "        text-align: right;\n",
       "    }\n",
       "</style>\n",
       "<table border=\"1\" class=\"dataframe\">\n",
       "  <thead>\n",
       "    <tr style=\"text-align: right;\">\n",
       "      <th></th>\n",
       "      <th>Model</th>\n",
       "      <th>Score</th>\n",
       "    </tr>\n",
       "  </thead>\n",
       "  <tbody>\n",
       "    <tr>\n",
       "      <th>2</th>\n",
       "      <td>Logistic Regression</td>\n",
       "      <td>82.35</td>\n",
       "    </tr>\n",
       "    <tr>\n",
       "      <th>4</th>\n",
       "      <td>Naive Bayes</td>\n",
       "      <td>81.62</td>\n",
       "    </tr>\n",
       "    <tr>\n",
       "      <th>3</th>\n",
       "      <td>Random Forest</td>\n",
       "      <td>78.68</td>\n",
       "    </tr>\n",
       "    <tr>\n",
       "      <th>7</th>\n",
       "      <td>Gradient Boosting Classifier</td>\n",
       "      <td>77.94</td>\n",
       "    </tr>\n",
       "    <tr>\n",
       "      <th>0</th>\n",
       "      <td>Support Vector Machines</td>\n",
       "      <td>72.79</td>\n",
       "    </tr>\n",
       "    <tr>\n",
       "      <th>6</th>\n",
       "      <td>Stochastic Gradient Descent</td>\n",
       "      <td>72.06</td>\n",
       "    </tr>\n",
       "    <tr>\n",
       "      <th>5</th>\n",
       "      <td>Decision Tree</td>\n",
       "      <td>69.85</td>\n",
       "    </tr>\n",
       "    <tr>\n",
       "      <th>1</th>\n",
       "      <td>KNN</td>\n",
       "      <td>63.24</td>\n",
       "    </tr>\n",
       "  </tbody>\n",
       "</table>\n",
       "</div>"
      ],
      "text/plain": [
       "                          Model  Score\n",
       "2           Logistic Regression  82.35\n",
       "4                   Naive Bayes  81.62\n",
       "3                 Random Forest  78.68\n",
       "7  Gradient Boosting Classifier  77.94\n",
       "0       Support Vector Machines  72.79\n",
       "6   Stochastic Gradient Descent  72.06\n",
       "5                 Decision Tree  69.85\n",
       "1                           KNN  63.24"
      ]
     },
     "execution_count": 35,
     "metadata": {},
     "output_type": "execute_result"
    }
   ],
   "source": [
    "models = pd.DataFrame({\n",
    "    'Model': ['Support Vector Machines', 'KNN', 'Logistic Regression', \n",
    "              'Random Forest', 'Naive Bayes', \n",
    "              'Decision Tree', 'Stochastic Gradient Descent', 'Gradient Boosting Classifier'],\n",
    "    'Score': [acc_svc, acc_knn, acc_logreg, \n",
    "              acc_randomforest, acc_gaussian, acc_decisiontree,\n",
    "              acc_sgd, acc_gbk]})\n",
    "models.sort_values(by='Score', ascending=False)"
   ]
  },
  {
   "cell_type": "code",
   "execution_count": 45,
   "metadata": {},
   "outputs": [
    {
     "name": "stdout",
     "output_type": "stream",
     "text": [
      "Scores: [0.83673469 0.85714286 0.7755102  0.83673469 0.82978723 0.78723404\n",
      " 0.70212766 0.80851064 0.80851064 0.80851064]\n",
      "Mean: 0.8050803300043421\n",
      "Standard Deviation: 0.04141542111354084\n",
      "Precision: 0.785\n",
      "Recall: 0.9691358024691358\n"
     ]
    },
    {
     "data": {
      "text/plain": [
       "0.867403314917127"
      ]
     },
     "execution_count": 45,
     "metadata": {},
     "output_type": "execute_result"
    },
    {
     "data": {
      "image/png": "[encoded data removed]",
      "text/plain": [
       "<Figure size 432x288 with 1 Axes>"
      ]
     },
     "metadata": {},
     "output_type": "display_data"
    }
   ],
   "source": [
    "#kfold cross validation\n",
    "from sklearn.model_selection import cross_val_score\n",
    "logreg = LogisticRegression()\n",
    "scores = cross_val_score(logreg, x_train, y_train, cv=10, scoring = \"accuracy\")\n",
    "print(\"Scores:\", scores)\n",
    "print(\"Mean:\", scores.mean())\n",
    "print(\"Standard Deviation:\", scores.std())\n",
    "\n",
    "#features minify\n",
    "importances = pd.DataFrame({'feature':x_train.columns,'importance':np.round(randomforest.feature_importances_,3)})\n",
    "importances = importances.sort_values('importance',ascending=False).set_index('feature')\n",
    "importances.head(15)\n",
    "importances.plot.bar()\n",
    "\n",
    "#confusion metrix\n",
    "from sklearn.model_selection import cross_val_predict\n",
    "from sklearn.metrics import confusion_matrix\n",
    "predictions = cross_val_predict(logreg, x_train, y_train, cv=3)\n",
    "CM = confusion_matrix(y_train, predictions)\n",
    "#precision and recall\n",
    "from sklearn.metrics import precision_score, recall_score\n",
    "print(\"Precision:\", precision_score(y_train, predictions))\n",
    "print(\"Recall:\",recall_score(y_train, predictions))\n",
    "#f1 score\n",
    "from sklearn.metrics import f1_score\n",
    "f1_score(y_train, predictions)"
   ]
  },
  {
   "cell_type": "code",
   "execution_count": null,
   "metadata": {},
   "outputs": [],
   "source": []
  }
 ],
 "metadata": {
  "kernelspec": {
   "display_name": "Python 3",
   "language": "python",
   "name": "python3"
  },
  "language_info": {
   "codemirror_mode": {
    "name": "ipython",
    "version": 3
   },
   "file_extension": ".py",
   "mimetype": "text/x-python",
   "name": "python",
   "nbconvert_exporter": "python",
   "pygments_lexer": "ipython3",
   "version": "3.6.5"
  }
 },
 "nbformat": 4,
 "nbformat_minor": 2
}
