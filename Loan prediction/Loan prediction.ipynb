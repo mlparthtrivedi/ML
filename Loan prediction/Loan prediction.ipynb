{
 "cells": [
  {
   "cell_type": "code",
   "execution_count": 16,
   "metadata": {},
   "outputs": [],
   "source": [
    "#Import Necessary Libraries\n",
    "import numpy as np\n",
    "import pandas as pd\n",
    "\n",
    "#visualization libraries\n",
    "\n",
    "import matplotlib.pyplot as plt\n",
    "import seaborn as sns\n",
    "%matplotlib inline\n",
    "\n",
    "#ignore warnings\n",
    "import warnings\n",
    "warnings.filterwarnings('ignore')\n",
    "sns.set(rc={'figure.figsize':(11.7,8.27)})\n",
    "#sns.set(rc={'figure.figsize':(31.7,28.27)})"
   ]
  },
  {
   "cell_type": "code",
   "execution_count": 17,
   "metadata": {},
   "outputs": [],
   "source": [
    "#Read in and Explore the Data\n",
    "train = pd.read_csv(\"train.csv\")\n",
    "test = pd.read_csv(\"test.csv\")"
   ]
  },
  {
   "cell_type": "code",
   "execution_count": 18,
   "metadata": {},
   "outputs": [
    {
     "name": "stdout",
     "output_type": "stream",
     "text": [
      "         Loan_ID Gender Married Dependents Education Self_Employed  \\\n",
      "count        614    601     611        599       614           582   \n",
      "unique       614      2       2          4         2             2   \n",
      "top     LP001036   Male     Yes          0  Graduate            No   \n",
      "freq           1    489     398        345       480           500   \n",
      "mean         NaN    NaN     NaN        NaN       NaN           NaN   \n",
      "std          NaN    NaN     NaN        NaN       NaN           NaN   \n",
      "min          NaN    NaN     NaN        NaN       NaN           NaN   \n",
      "25%          NaN    NaN     NaN        NaN       NaN           NaN   \n",
      "50%          NaN    NaN     NaN        NaN       NaN           NaN   \n",
      "75%          NaN    NaN     NaN        NaN       NaN           NaN   \n",
      "max          NaN    NaN     NaN        NaN       NaN           NaN   \n",
      "\n",
      "        ApplicantIncome  CoapplicantIncome  LoanAmount  Loan_Amount_Term  \\\n",
      "count        614.000000         614.000000  592.000000         600.00000   \n",
      "unique              NaN                NaN         NaN               NaN   \n",
      "top                 NaN                NaN         NaN               NaN   \n",
      "freq                NaN                NaN         NaN               NaN   \n",
      "mean        5403.459283        1621.245798  146.412162         342.00000   \n",
      "std         6109.041673        2926.248369   85.587325          65.12041   \n",
      "min          150.000000           0.000000    9.000000          12.00000   \n",
      "25%         2877.500000           0.000000  100.000000         360.00000   \n",
      "50%         3812.500000        1188.500000  128.000000         360.00000   \n",
      "75%         5795.000000        2297.250000  168.000000         360.00000   \n",
      "max        81000.000000       41667.000000  700.000000         480.00000   \n",
      "\n",
      "        Credit_History Property_Area Loan_Status  \n",
      "count       564.000000           614         614  \n",
      "unique             NaN             3           2  \n",
      "top                NaN     Semiurban           Y  \n",
      "freq               NaN           233         422  \n",
      "mean          0.842199           NaN         NaN  \n",
      "std           0.364878           NaN         NaN  \n",
      "min           0.000000           NaN         NaN  \n",
      "25%           1.000000           NaN         NaN  \n",
      "50%           1.000000           NaN         NaN  \n",
      "75%           1.000000           NaN         NaN  \n",
      "max           1.000000           NaN         NaN  \n"
     ]
    }
   ],
   "source": [
    "print(train.describe(include = \"all\"));\n"
   ]
  },
  {
   "cell_type": "code",
   "execution_count": 19,
   "metadata": {},
   "outputs": [
    {
     "name": "stdout",
     "output_type": "stream",
     "text": [
      "Loan_ID               0\n",
      "Gender               13\n",
      "Married               3\n",
      "Dependents           15\n",
      "Education             0\n",
      "Self_Employed        32\n",
      "ApplicantIncome       0\n",
      "CoapplicantIncome     0\n",
      "LoanAmount           22\n",
      "Loan_Amount_Term     14\n",
      "Credit_History       50\n",
      "Property_Area         0\n",
      "Loan_Status           0\n",
      "dtype: int64\n"
     ]
    }
   ],
   "source": [
    "nan_value_detail = pd.isnull(train).sum();\n",
    "print(nan_value_detail)"
   ]
  },
  {
   "cell_type": "code",
   "execution_count": 20,
   "metadata": {},
   "outputs": [
    {
     "name": "stdout",
     "output_type": "stream",
     "text": [
      "    Loan_ID Gender Married Dependents     Education Self_Employed  \\\n",
      "0  LP001002   Male      No          0      Graduate            No   \n",
      "1  LP001003   Male     Yes          1      Graduate            No   \n",
      "2  LP001005   Male     Yes          0      Graduate           Yes   \n",
      "3  LP001006   Male     Yes          0  Not Graduate            No   \n",
      "4  LP001008   Male      No          0      Graduate            No   \n",
      "\n",
      "   ApplicantIncome  CoapplicantIncome  LoanAmount  Loan_Amount_Term  \\\n",
      "0             5849                0.0         NaN             360.0   \n",
      "1             4583             1508.0       128.0             360.0   \n",
      "2             3000                0.0        66.0             360.0   \n",
      "3             2583             2358.0       120.0             360.0   \n",
      "4             6000                0.0       141.0             360.0   \n",
      "\n",
      "   Credit_History Property_Area Loan_Status  \n",
      "0             1.0         Urban           Y  \n",
      "1             1.0         Rural           N  \n",
      "2             1.0         Urban           Y  \n",
      "3             1.0         Urban           Y  \n",
      "4             1.0         Urban           Y  \n"
     ]
    }
   ],
   "source": [
    "print(train.head())"
   ]
  },
  {
   "cell_type": "code",
   "execution_count": 21,
   "metadata": {},
   "outputs": [
    {
     "name": "stdout",
     "output_type": "stream",
     "text": [
      "0    1\n",
      "1    0\n",
      "2    1\n",
      "3    1\n",
      "4    1\n",
      "Name: Loan_Status, dtype: int64\n"
     ]
    }
   ],
   "source": [
    "#loan status mapping\n",
    "load_status_mapping = {\"Y\": 1, \"N\": 0}\n",
    "train['Loan_Status'] = train['Loan_Status'].map(load_status_mapping)\n",
    "print(train['Loan_Status'].head())"
   ]
  },
  {
   "cell_type": "code",
   "execution_count": 22,
   "metadata": {},
   "outputs": [],
   "source": [
    "train[\"Gender\"] = train[\"Gender\"].fillna('Male')\n",
    "test[\"Gender\"] = test[\"Gender\"].fillna('Male')\n",
    "#mapping\n",
    "Gender_mapping = {\"Male\": 1, \"Female\": 2}\n",
    "train['Gender'] = train['Gender'].map(Gender_mapping)\n",
    "test['Gender'] = test['Gender'].map(Gender_mapping)"
   ]
  },
  {
   "cell_type": "code",
   "execution_count": 23,
   "metadata": {},
   "outputs": [
    {
     "data": {
      "text/plain": [
       "<matplotlib.axes._subplots.AxesSubplot at 0x1dd5d3d9ba8>"
      ]
     },
     "execution_count": 23,
     "metadata": {},
     "output_type": "execute_result"
    },
    {
     "data": {
      "image/png": "[encoded data removed]",
      "text/plain": [
       "<Figure size 842.4x595.44 with 1 Axes>"
      ]
     },
     "metadata": {},
     "output_type": "display_data"
    }
   ],
   "source": [
    "sns.barplot(x=\"Gender\", y=\"Loan_Status\", data=train)"
   ]
  },
  {
   "cell_type": "code",
   "execution_count": 24,
   "metadata": {},
   "outputs": [],
   "source": [
    "train[\"Married\"] = train[\"Married\"].fillna('Yes')\n",
    "test[\"Married\"] = test[\"Married\"].fillna('Yes')\n",
    "#mapping\n",
    "Marriage_mapping = {\"Yes\": 1, \"No\": 2}\n",
    "train['Married'] = train['Married'].map(Marriage_mapping)\n",
    "test['Married'] = test['Married'].map(Marriage_mapping)"
   ]
  },
  {
   "cell_type": "code",
   "execution_count": 25,
   "metadata": {},
   "outputs": [
    {
     "data": {
      "text/plain": [
       "<matplotlib.axes._subplots.AxesSubplot at 0x1dd5d8edc88>"
      ]
     },
     "execution_count": 25,
     "metadata": {},
     "output_type": "execute_result"
    },
    {
     "data": {
      "image/png": "[encoded data removed]",
      "text/plain": [
       "<Figure size 842.4x595.44 with 1 Axes>"
      ]
     },
     "metadata": {},
     "output_type": "display_data"
    }
   ],
   "source": [
    "sns.barplot(x=\"Married\", y=\"Loan_Status\", data=train)"
   ]
  },
  {
   "cell_type": "code",
   "execution_count": 27,
   "metadata": {},
   "outputs": [],
   "source": [
    "train[\"Dependents\"] = train[\"Dependents\"].fillna(\"0\")\n",
    "test[\"Dependents\"] = test[\"Dependents\"].fillna(\"0\")"
   ]
  },
  {
   "cell_type": "code",
   "execution_count": 28,
   "metadata": {},
   "outputs": [
    {
     "data": {
      "text/plain": [
       "<matplotlib.axes._subplots.AxesSubplot at 0x1dd5d9a92b0>"
      ]
     },
     "execution_count": 28,
     "metadata": {},
     "output_type": "execute_result"
    },
    {
     "data": {
      "image/png": "[encoded data removed]",
      "text/plain": [
       "<Figure size 842.4x595.44 with 1 Axes>"
      ]
     },
     "metadata": {},
     "output_type": "display_data"
    }
   ],
   "source": [
    "sns.barplot(x=\"Dependents\", y=\"Loan_Status\", data=train)"
   ]
  },
  {
   "cell_type": "code",
   "execution_count": null,
   "metadata": {},
   "outputs": [],
   "source": []
  }
 ],
 "metadata": {
  "kernelspec": {
   "display_name": "Python 3",
   "language": "python",
   "name": "python3"
  },
  "language_info": {
   "codemirror_mode": {
    "name": "ipython",
    "version": 3
   },
   "file_extension": ".py",
   "mimetype": "text/x-python",
   "name": "python",
   "nbconvert_exporter": "python",
   "pygments_lexer": "ipython3",
   "version": "3.6.5"
  }
 },
 "nbformat": 4,
 "nbformat_minor": 2
}
