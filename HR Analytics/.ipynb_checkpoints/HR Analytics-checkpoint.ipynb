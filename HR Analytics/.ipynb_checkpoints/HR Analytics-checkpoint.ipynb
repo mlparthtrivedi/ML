{
 "cells": [
  {
   "cell_type": "code",
   "execution_count": 132,
   "metadata": {},
   "outputs": [],
   "source": [
    "# -*- coding: utf-8 -*-\n",
    "#Import Necessary Libraries\n",
    "import numpy as np\n",
    "import pandas as pd\n",
    "\n",
    "#visualization libraries\n",
    "import matplotlib.pyplot as plt\n",
    "import seaborn as sns\n",
    "%matplotlib inline\n",
    "\n",
    "#ignore warnings\n",
    "import warnings\n",
    "warnings.filterwarnings('ignore')\n",
    "\n",
    "\n",
    "#Read in and Explore the Data\n",
    "train = pd.read_csv(\"train.csv\")\n",
    "test = pd.read_csv(\"test.csv\")"
   ]
  },
  {
   "cell_type": "code",
   "execution_count": 133,
   "metadata": {},
   "outputs": [],
   "source": [
    "features_details = train.describe(include = \"all\");\n",
    "nan_value_detail = pd.isnull(train).sum();"
   ]
  },
  {
   "cell_type": "code",
   "execution_count": 134,
   "metadata": {},
   "outputs": [
    {
     "name": "stdout",
     "output_type": "stream",
     "text": [
      "employee_id                0\n",
      "department                 0\n",
      "region                     0\n",
      "education               2409\n",
      "gender                     0\n",
      "recruitment_channel        0\n",
      "no_of_trainings            0\n",
      "age                        0\n",
      "previous_year_rating    4124\n",
      "length_of_service          0\n",
      "kpi                        0\n",
      "awards_won                 0\n",
      "avg_training_score         0\n",
      "is_promoted                0\n",
      "dtype: int64\n"
     ]
    }
   ],
   "source": [
    "train.head()\n",
    "print(nan_value_detail)"
   ]
  },
  {
   "cell_type": "code",
   "execution_count": 135,
   "metadata": {},
   "outputs": [],
   "source": [
    "depart_unique = np.unique(train['department']);\n",
    "depart_mapping = {depart_unique[0]: 1, depart_unique[1]: 2, depart_unique[2]: 3, depart_unique[3]: 4,\n",
    "                  depart_unique[4]: 5, depart_unique[5]: 6, depart_unique[6]: 7,depart_unique[7]: 8,depart_unique[8]: 9}\n",
    "train['departGroup'] = train['department'].map(depart_mapping)\n",
    "test['departGroup'] = test['department'].map(depart_mapping)\n",
    "#dropping the depart feature for now, might change\n",
    "train = train.drop(['department'], axis = 1)\n",
    "test = test.drop(['department'], axis = 1)\n"
   ]
  },
  {
   "cell_type": "code",
   "execution_count": 136,
   "metadata": {},
   "outputs": [
    {
     "data": {
      "text/plain": [
       "<matplotlib.axes._subplots.AxesSubplot at 0x1b66782a7b8>"
      ]
     },
     "execution_count": 136,
     "metadata": {},
     "output_type": "execute_result"
    },
    {
     "data": {
      "image/png": "[encoded data removed]",
      "text/plain": [
       "<Figure size 432x288 with 1 Axes>"
      ]
     },
     "metadata": {},
     "output_type": "display_data"
    }
   ],
   "source": [
    "sns.barplot(x=\"departGroup\", y=\"is_promoted\", data=train)"
   ]
  },
  {
   "cell_type": "code",
   "execution_count": 137,
   "metadata": {},
   "outputs": [],
   "source": [
    "region_unique = np.unique(train['region']);\n",
    "region = dict()\n",
    "r = 1\n",
    "for rui in region_unique:\n",
    "    region[rui] = r\n",
    "    r = r + 1\n",
    "train['regionGroup'] = train['region'].map(region)\n",
    "test['regionGroup'] = test['region'].map(region)\n",
    "#dropping the depart feature for now, might change\n",
    "train = train.drop(['region'], axis = 1)\n",
    "test = test.drop(['region'], axis = 1)"
   ]
  },
  {
   "cell_type": "code",
   "execution_count": 138,
   "metadata": {},
   "outputs": [
    {
     "data": {
      "text/html": [
       "<div>\n",
       "<style scoped>\n",
       "    .dataframe tbody tr th:only-of-type {\n",
       "        vertical-align: middle;\n",
       "    }\n",
       "\n",
       "    .dataframe tbody tr th {\n",
       "        vertical-align: top;\n",
       "    }\n",
       "\n",
       "    .dataframe thead th {\n",
       "        text-align: right;\n",
       "    }\n",
       "</style>\n",
       "<table border=\"1\" class=\"dataframe\">\n",
       "  <thead>\n",
       "    <tr style=\"text-align: right;\">\n",
       "      <th></th>\n",
       "      <th>employee_id</th>\n",
       "      <th>education</th>\n",
       "      <th>gender</th>\n",
       "      <th>recruitment_channel</th>\n",
       "      <th>no_of_trainings</th>\n",
       "      <th>age</th>\n",
       "      <th>previous_year_rating</th>\n",
       "      <th>length_of_service</th>\n",
       "      <th>kpi</th>\n",
       "      <th>awards_won</th>\n",
       "      <th>avg_training_score</th>\n",
       "      <th>is_promoted</th>\n",
       "      <th>departGroup</th>\n",
       "      <th>regionGroup</th>\n",
       "    </tr>\n",
       "  </thead>\n",
       "  <tbody>\n",
       "    <tr>\n",
       "      <th>0</th>\n",
       "      <td>65438</td>\n",
       "      <td>Master's &amp; above</td>\n",
       "      <td>f</td>\n",
       "      <td>sourcing</td>\n",
       "      <td>1</td>\n",
       "      <td>35</td>\n",
       "      <td>5.0</td>\n",
       "      <td>8</td>\n",
       "      <td>1</td>\n",
       "      <td>0</td>\n",
       "      <td>49</td>\n",
       "      <td>0</td>\n",
       "      <td>8</td>\n",
       "      <td>32</td>\n",
       "    </tr>\n",
       "    <tr>\n",
       "      <th>1</th>\n",
       "      <td>65141</td>\n",
       "      <td>Bachelor's</td>\n",
       "      <td>m</td>\n",
       "      <td>other</td>\n",
       "      <td>1</td>\n",
       "      <td>30</td>\n",
       "      <td>5.0</td>\n",
       "      <td>4</td>\n",
       "      <td>0</td>\n",
       "      <td>0</td>\n",
       "      <td>60</td>\n",
       "      <td>0</td>\n",
       "      <td>5</td>\n",
       "      <td>15</td>\n",
       "    </tr>\n",
       "    <tr>\n",
       "      <th>2</th>\n",
       "      <td>7513</td>\n",
       "      <td>Bachelor's</td>\n",
       "      <td>m</td>\n",
       "      <td>sourcing</td>\n",
       "      <td>1</td>\n",
       "      <td>34</td>\n",
       "      <td>3.0</td>\n",
       "      <td>7</td>\n",
       "      <td>0</td>\n",
       "      <td>0</td>\n",
       "      <td>50</td>\n",
       "      <td>0</td>\n",
       "      <td>8</td>\n",
       "      <td>11</td>\n",
       "    </tr>\n",
       "    <tr>\n",
       "      <th>3</th>\n",
       "      <td>2542</td>\n",
       "      <td>Bachelor's</td>\n",
       "      <td>m</td>\n",
       "      <td>other</td>\n",
       "      <td>2</td>\n",
       "      <td>39</td>\n",
       "      <td>1.0</td>\n",
       "      <td>10</td>\n",
       "      <td>0</td>\n",
       "      <td>0</td>\n",
       "      <td>50</td>\n",
       "      <td>0</td>\n",
       "      <td>8</td>\n",
       "      <td>16</td>\n",
       "    </tr>\n",
       "    <tr>\n",
       "      <th>4</th>\n",
       "      <td>48945</td>\n",
       "      <td>Bachelor's</td>\n",
       "      <td>m</td>\n",
       "      <td>other</td>\n",
       "      <td>1</td>\n",
       "      <td>45</td>\n",
       "      <td>3.0</td>\n",
       "      <td>2</td>\n",
       "      <td>0</td>\n",
       "      <td>0</td>\n",
       "      <td>73</td>\n",
       "      <td>0</td>\n",
       "      <td>9</td>\n",
       "      <td>19</td>\n",
       "    </tr>\n",
       "  </tbody>\n",
       "</table>\n",
       "</div>"
      ],
      "text/plain": [
       "   employee_id         education gender recruitment_channel  no_of_trainings  \\\n",
       "0        65438  Master's & above      f            sourcing                1   \n",
       "1        65141        Bachelor's      m               other                1   \n",
       "2         7513        Bachelor's      m            sourcing                1   \n",
       "3         2542        Bachelor's      m               other                2   \n",
       "4        48945        Bachelor's      m               other                1   \n",
       "\n",
       "   age  previous_year_rating  length_of_service  kpi  awards_won  \\\n",
       "0   35                   5.0                  8    1           0   \n",
       "1   30                   5.0                  4    0           0   \n",
       "2   34                   3.0                  7    0           0   \n",
       "3   39                   1.0                 10    0           0   \n",
       "4   45                   3.0                  2    0           0   \n",
       "\n",
       "   avg_training_score  is_promoted  departGroup  regionGroup  \n",
       "0                  49            0            8           32  \n",
       "1                  60            0            5           15  \n",
       "2                  50            0            8           11  \n",
       "3                  50            0            8           16  \n",
       "4                  73            0            9           19  "
      ]
     },
     "execution_count": 138,
     "metadata": {},
     "output_type": "execute_result"
    },
    {
     "data": {
      "image/png": "[encoded data removed]",
      "text/plain": [
       "<Figure size 432x288 with 1 Axes>"
      ]
     },
     "metadata": {},
     "output_type": "display_data"
    }
   ],
   "source": [
    "sns.barplot(x=\"regionGroup\", y=\"is_promoted\", data=train)\n",
    "train.head()"
   ]
  },
  {
   "cell_type": "code",
   "execution_count": 139,
   "metadata": {},
   "outputs": [
    {
     "data": {
      "text/plain": [
       "<matplotlib.axes._subplots.AxesSubplot at 0x1b66c9e1080>"
      ]
     },
     "execution_count": 139,
     "metadata": {},
     "output_type": "execute_result"
    },
    {
     "data": {
      "image/png": "[encoded data removed]",
      "text/plain": [
       "<Figure size 432x288 with 1 Axes>"
      ]
     },
     "metadata": {},
     "output_type": "display_data"
    }
   ],
   "source": [
    "sns.barplot(x=\"education\", y=\"is_promoted\", data=train)"
   ]
  },
  {
   "cell_type": "code",
   "execution_count": 140,
   "metadata": {},
   "outputs": [],
   "source": [
    "train = train.fillna({\"education\": \"Bachelor's\"})\n",
    "test = test.fillna({\"education\": \"Bachelor's\"})\n",
    "edu_unique = np.unique(train['education']);\n",
    "education = dict()\n",
    "r = 1\n",
    "for eui in edu_unique:\n",
    "    education[eui] = r\n",
    "    r = r + 1\n",
    "train['eduGroup'] = train['education'].map(education)\n",
    "test['eduGroup'] = test['education'].map(education)\n",
    "#dropping the depart feature for now, might change\n",
    "train = train.drop(['education'], axis = 1)\n",
    "test = test.drop(['education'], axis = 1)"
   ]
  },
  {
   "cell_type": "code",
   "execution_count": 141,
   "metadata": {},
   "outputs": [],
   "source": [
    "gender_unique = np.unique(train['gender']);\n",
    "gender = dict()\n",
    "r = 1\n",
    "for gen in gender_unique:\n",
    "    gender[gen] = r\n",
    "    r = r + 1\n",
    "train['genderGroup'] = train['gender'].map(gender)\n",
    "test['genderGroup'] = test['gender'].map(gender)\n",
    "#dropping the depart feature for now, might change\n",
    "train = train.drop(['gender'], axis = 1)\n",
    "test = test.drop(['gender'], axis = 1)"
   ]
  },
  {
   "cell_type": "code",
   "execution_count": 142,
   "metadata": {},
   "outputs": [
    {
     "data": {
      "text/plain": [
       "<matplotlib.axes._subplots.AxesSubplot at 0x1b665e95198>"
      ]
     },
     "execution_count": 142,
     "metadata": {},
     "output_type": "execute_result"
    },
    {
     "data": {
      "image/png": "[encoded data removed]",
      "text/plain": [
       "<Figure size 432x288 with 1 Axes>"
      ]
     },
     "metadata": {},
     "output_type": "display_data"
    }
   ],
   "source": [
    "sns.barplot(x=\"genderGroup\", y=\"is_promoted\", data=train)"
   ]
  },
  {
   "cell_type": "code",
   "execution_count": 143,
   "metadata": {},
   "outputs": [
    {
     "data": {
      "image/png": "[encoded data removed]",
      "text/plain": [
       "<Figure size 432x288 with 1 Axes>"
      ]
     },
     "metadata": {},
     "output_type": "display_data"
    }
   ],
   "source": [
    "sns.barplot(x=\"recruitment_channel\", y=\"is_promoted\", data=train)\n",
    "recruit_unique = np.unique(train['recruitment_channel']);\n",
    "recruit = dict()\n",
    "r = 1\n",
    "for gen in recruit_unique:\n",
    "    recruit[gen] = r\n",
    "    r = r + 1\n",
    "train['recruitGroup'] = train['recruitment_channel'].map(recruit)\n",
    "test['recruitGroup'] = test['recruitment_channel'].map(recruit)\n",
    "#dropping the depart feature for now, might change\n",
    "train = train.drop(['recruitment_channel'], axis = 1)\n",
    "test = test.drop(['recruitment_channel'], axis = 1)"
   ]
  },
  {
   "cell_type": "code",
   "execution_count": 144,
   "metadata": {},
   "outputs": [
    {
     "data": {
      "image/png": "[encoded data removed]",
      "text/plain": [
       "<Figure size 432x288 with 1 Axes>"
      ]
     },
     "metadata": {},
     "output_type": "display_data"
    }
   ],
   "source": [
    "sns.barplot(x=\"no_of_trainings\", y=\"is_promoted\", data=train)\n",
    "training_unique = np.unique(train['no_of_trainings']);\n",
    "training = dict()\n",
    "r = 1\n",
    "for gen in training_unique:\n",
    "    training[gen] = r\n",
    "    r = r + 1\n",
    "train['trainingGroup'] = train['no_of_trainings'].map(training)\n",
    "test['trainingGroup'] = test['no_of_trainings'].map(training)\n",
    "#dropping the depart feature for now, might change\n",
    "train = train.drop(['no_of_trainings'], axis = 1)\n",
    "test = test.drop(['no_of_trainings'], axis = 1)"
   ]
  },
  {
   "cell_type": "code",
   "execution_count": 145,
   "metadata": {},
   "outputs": [
    {
     "data": {
      "image/png": "[encoded data removed]",
      "text/plain": [
       "<Figure size 432x288 with 1 Axes>"
      ]
     },
     "metadata": {},
     "output_type": "display_data"
    }
   ],
   "source": [
    "#sort the ages into logical categories\n",
    "bins = [30, 50, 60, 70,80,90,95, np.inf]\n",
    "labels = ['bad', 'average', 'good','very Good','excellent','great','impressive']\n",
    "train['avg_training_scoreg'] = pd.cut(train[\"avg_training_score\"], bins, labels = labels)\n",
    "test['avg_training_scoreg'] = pd.cut(test[\"avg_training_score\"], bins, labels = labels)\n",
    "#draw a bar plot of Age vs. survival\n",
    "sns.barplot(x=\"avg_training_scoreg\", y=\"is_promoted\", data=train)\n",
    "AgeGroup_unique = np.unique(train['avg_training_scoreg']);\n",
    "AgeGroup = dict()\n",
    "r = 1\n",
    "for gen in AgeGroup_unique:\n",
    "    AgeGroup[gen] = r\n",
    "    r = r + 1\n",
    "train['avg_training_scoreg'] = train['avg_training_scoreg'].map(AgeGroup)\n",
    "test['avg_training_scoreg'] = test['avg_training_scoreg'].map(AgeGroup)\n",
    "#dropping the depart feature for now, might change\n",
    "train = train.drop(['avg_training_score'], axis = 1)\n",
    "test = test.drop(['avg_training_score'], axis = 1)"
   ]
  },
  {
   "cell_type": "code",
   "execution_count": 146,
   "metadata": {},
   "outputs": [
    {
     "data": {
      "image/png": "[encoded data removed]",
      "text/plain": [
       "<Figure size 432x288 with 1 Axes>"
      ]
     },
     "metadata": {},
     "output_type": "display_data"
    }
   ],
   "source": [
    "#sort the ages into logical categories\n",
    "bins = [18, 24, 35, 60, np.inf]\n",
    "labels = ['Student', 'Young Adult', 'Adult', 'Senior']\n",
    "train['AgeGroup'] = pd.cut(train[\"age\"], bins, labels = labels)\n",
    "test['AgeGroup'] = pd.cut(test[\"age\"], bins, labels = labels)\n",
    "#draw a bar plot of Age vs. survival\n",
    "sns.barplot(x=\"AgeGroup\", y=\"is_promoted\", data=train)\n",
    "AgeGroup_unique = np.unique(train['AgeGroup']);\n",
    "AgeGroup = dict()\n",
    "r = 1\n",
    "for gen in AgeGroup_unique:\n",
    "    AgeGroup[gen] = r\n",
    "    r = r + 1\n",
    "train['AgeGroup'] = train['AgeGroup'].map(AgeGroup)\n",
    "test['AgeGroup'] = test['AgeGroup'].map(AgeGroup)\n",
    "#dropping the depart feature for now, might change\n",
    "train = train.drop(['age'], axis = 1)\n",
    "test = test.drop(['age'], axis = 1)"
   ]
  },
  {
   "cell_type": "code",
   "execution_count": 147,
   "metadata": {},
   "outputs": [
    {
     "data": {
      "text/html": [
       "<div>\n",
       "<style scoped>\n",
       "    .dataframe tbody tr th:only-of-type {\n",
       "        vertical-align: middle;\n",
       "    }\n",
       "\n",
       "    .dataframe tbody tr th {\n",
       "        vertical-align: top;\n",
       "    }\n",
       "\n",
       "    .dataframe thead th {\n",
       "        text-align: right;\n",
       "    }\n",
       "</style>\n",
       "<table border=\"1\" class=\"dataframe\">\n",
       "  <thead>\n",
       "    <tr style=\"text-align: right;\">\n",
       "      <th></th>\n",
       "      <th>employee_id</th>\n",
       "      <th>previous_year_rating</th>\n",
       "      <th>length_of_service</th>\n",
       "      <th>kpi</th>\n",
       "      <th>awards_won</th>\n",
       "      <th>is_promoted</th>\n",
       "      <th>departGroup</th>\n",
       "      <th>regionGroup</th>\n",
       "      <th>eduGroup</th>\n",
       "      <th>genderGroup</th>\n",
       "      <th>recruitGroup</th>\n",
       "      <th>trainingGroup</th>\n",
       "      <th>avg_training_scoreg</th>\n",
       "      <th>AgeGroup</th>\n",
       "    </tr>\n",
       "  </thead>\n",
       "  <tbody>\n",
       "    <tr>\n",
       "      <th>0</th>\n",
       "      <td>65438</td>\n",
       "      <td>5.0</td>\n",
       "      <td>8</td>\n",
       "      <td>1</td>\n",
       "      <td>0</td>\n",
       "      <td>0</td>\n",
       "      <td>8</td>\n",
       "      <td>32</td>\n",
       "      <td>3</td>\n",
       "      <td>1</td>\n",
       "      <td>3</td>\n",
       "      <td>1</td>\n",
       "      <td>2</td>\n",
       "      <td>3</td>\n",
       "    </tr>\n",
       "    <tr>\n",
       "      <th>1</th>\n",
       "      <td>65141</td>\n",
       "      <td>5.0</td>\n",
       "      <td>4</td>\n",
       "      <td>0</td>\n",
       "      <td>0</td>\n",
       "      <td>0</td>\n",
       "      <td>5</td>\n",
       "      <td>15</td>\n",
       "      <td>1</td>\n",
       "      <td>2</td>\n",
       "      <td>1</td>\n",
       "      <td>1</td>\n",
       "      <td>1</td>\n",
       "      <td>3</td>\n",
       "    </tr>\n",
       "    <tr>\n",
       "      <th>2</th>\n",
       "      <td>7513</td>\n",
       "      <td>3.0</td>\n",
       "      <td>7</td>\n",
       "      <td>0</td>\n",
       "      <td>0</td>\n",
       "      <td>0</td>\n",
       "      <td>8</td>\n",
       "      <td>11</td>\n",
       "      <td>1</td>\n",
       "      <td>2</td>\n",
       "      <td>3</td>\n",
       "      <td>1</td>\n",
       "      <td>2</td>\n",
       "      <td>3</td>\n",
       "    </tr>\n",
       "    <tr>\n",
       "      <th>3</th>\n",
       "      <td>2542</td>\n",
       "      <td>1.0</td>\n",
       "      <td>10</td>\n",
       "      <td>0</td>\n",
       "      <td>0</td>\n",
       "      <td>0</td>\n",
       "      <td>8</td>\n",
       "      <td>16</td>\n",
       "      <td>1</td>\n",
       "      <td>2</td>\n",
       "      <td>1</td>\n",
       "      <td>2</td>\n",
       "      <td>2</td>\n",
       "      <td>1</td>\n",
       "    </tr>\n",
       "    <tr>\n",
       "      <th>4</th>\n",
       "      <td>48945</td>\n",
       "      <td>3.0</td>\n",
       "      <td>2</td>\n",
       "      <td>0</td>\n",
       "      <td>0</td>\n",
       "      <td>0</td>\n",
       "      <td>9</td>\n",
       "      <td>19</td>\n",
       "      <td>1</td>\n",
       "      <td>2</td>\n",
       "      <td>1</td>\n",
       "      <td>1</td>\n",
       "      <td>7</td>\n",
       "      <td>1</td>\n",
       "    </tr>\n",
       "  </tbody>\n",
       "</table>\n",
       "</div>"
      ],
      "text/plain": [
       "   employee_id  previous_year_rating  length_of_service  kpi  awards_won  \\\n",
       "0        65438                   5.0                  8    1           0   \n",
       "1        65141                   5.0                  4    0           0   \n",
       "2         7513                   3.0                  7    0           0   \n",
       "3         2542                   1.0                 10    0           0   \n",
       "4        48945                   3.0                  2    0           0   \n",
       "\n",
       "   is_promoted  departGroup  regionGroup  eduGroup  genderGroup  recruitGroup  \\\n",
       "0            0            8           32         3            1             3   \n",
       "1            0            5           15         1            2             1   \n",
       "2            0            8           11         1            2             3   \n",
       "3            0            8           16         1            2             1   \n",
       "4            0            9           19         1            2             1   \n",
       "\n",
       "   trainingGroup  avg_training_scoreg  AgeGroup  \n",
       "0              1                    2         3  \n",
       "1              1                    1         3  \n",
       "2              1                    2         3  \n",
       "3              2                    2         1  \n",
       "4              1                    7         1  "
      ]
     },
     "execution_count": 147,
     "metadata": {},
     "output_type": "execute_result"
    }
   ],
   "source": [
    "train.head()"
   ]
  },
  {
   "cell_type": "code",
   "execution_count": 148,
   "metadata": {},
   "outputs": [],
   "source": [
    "train['start_emp'] = np.logical_or(train['awards_won'], train['kpi'])\n",
    "test['start_emp'] = np.logical_or(test['awards_won'], test['kpi'])\n",
    "\n",
    "start_emp_unique = np.unique(train['start_emp']);\n",
    "sempGroup = dict()\n",
    "r = 1\n",
    "for gen in start_emp_unique:\n",
    "    sempGroup[gen] = r\n",
    "    r = r + 1\n",
    "train['sempGroup'] = train['start_emp'].map(sempGroup)\n",
    "test['sempGroup'] = test['start_emp'].map(sempGroup)\n",
    "#dropping the depart feature for now, might change\n",
    "train = train.drop(['start_emp'], axis = 1)\n",
    "test = test.drop(['start_emp'], axis = 1)"
   ]
  },
  {
   "cell_type": "code",
   "execution_count": 149,
   "metadata": {},
   "outputs": [
    {
     "data": {
      "text/html": [
       "<div>\n",
       "<style scoped>\n",
       "    .dataframe tbody tr th:only-of-type {\n",
       "        vertical-align: middle;\n",
       "    }\n",
       "\n",
       "    .dataframe tbody tr th {\n",
       "        vertical-align: top;\n",
       "    }\n",
       "\n",
       "    .dataframe thead th {\n",
       "        text-align: right;\n",
       "    }\n",
       "</style>\n",
       "<table border=\"1\" class=\"dataframe\">\n",
       "  <thead>\n",
       "    <tr style=\"text-align: right;\">\n",
       "      <th></th>\n",
       "      <th>employee_id</th>\n",
       "      <th>previous_year_rating</th>\n",
       "      <th>length_of_service</th>\n",
       "      <th>kpi</th>\n",
       "      <th>awards_won</th>\n",
       "      <th>is_promoted</th>\n",
       "      <th>departGroup</th>\n",
       "      <th>regionGroup</th>\n",
       "      <th>eduGroup</th>\n",
       "      <th>genderGroup</th>\n",
       "      <th>recruitGroup</th>\n",
       "      <th>trainingGroup</th>\n",
       "      <th>avg_training_scoreg</th>\n",
       "      <th>AgeGroup</th>\n",
       "      <th>sempGroup</th>\n",
       "    </tr>\n",
       "  </thead>\n",
       "  <tbody>\n",
       "    <tr>\n",
       "      <th>0</th>\n",
       "      <td>65438</td>\n",
       "      <td>5.0</td>\n",
       "      <td>8</td>\n",
       "      <td>1</td>\n",
       "      <td>0</td>\n",
       "      <td>0</td>\n",
       "      <td>8</td>\n",
       "      <td>32</td>\n",
       "      <td>3</td>\n",
       "      <td>1</td>\n",
       "      <td>3</td>\n",
       "      <td>1</td>\n",
       "      <td>2</td>\n",
       "      <td>3</td>\n",
       "      <td>2</td>\n",
       "    </tr>\n",
       "    <tr>\n",
       "      <th>1</th>\n",
       "      <td>65141</td>\n",
       "      <td>5.0</td>\n",
       "      <td>4</td>\n",
       "      <td>0</td>\n",
       "      <td>0</td>\n",
       "      <td>0</td>\n",
       "      <td>5</td>\n",
       "      <td>15</td>\n",
       "      <td>1</td>\n",
       "      <td>2</td>\n",
       "      <td>1</td>\n",
       "      <td>1</td>\n",
       "      <td>1</td>\n",
       "      <td>3</td>\n",
       "      <td>1</td>\n",
       "    </tr>\n",
       "    <tr>\n",
       "      <th>2</th>\n",
       "      <td>7513</td>\n",
       "      <td>3.0</td>\n",
       "      <td>7</td>\n",
       "      <td>0</td>\n",
       "      <td>0</td>\n",
       "      <td>0</td>\n",
       "      <td>8</td>\n",
       "      <td>11</td>\n",
       "      <td>1</td>\n",
       "      <td>2</td>\n",
       "      <td>3</td>\n",
       "      <td>1</td>\n",
       "      <td>2</td>\n",
       "      <td>3</td>\n",
       "      <td>1</td>\n",
       "    </tr>\n",
       "    <tr>\n",
       "      <th>3</th>\n",
       "      <td>2542</td>\n",
       "      <td>1.0</td>\n",
       "      <td>10</td>\n",
       "      <td>0</td>\n",
       "      <td>0</td>\n",
       "      <td>0</td>\n",
       "      <td>8</td>\n",
       "      <td>16</td>\n",
       "      <td>1</td>\n",
       "      <td>2</td>\n",
       "      <td>1</td>\n",
       "      <td>2</td>\n",
       "      <td>2</td>\n",
       "      <td>1</td>\n",
       "      <td>1</td>\n",
       "    </tr>\n",
       "    <tr>\n",
       "      <th>4</th>\n",
       "      <td>48945</td>\n",
       "      <td>3.0</td>\n",
       "      <td>2</td>\n",
       "      <td>0</td>\n",
       "      <td>0</td>\n",
       "      <td>0</td>\n",
       "      <td>9</td>\n",
       "      <td>19</td>\n",
       "      <td>1</td>\n",
       "      <td>2</td>\n",
       "      <td>1</td>\n",
       "      <td>1</td>\n",
       "      <td>7</td>\n",
       "      <td>1</td>\n",
       "      <td>1</td>\n",
       "    </tr>\n",
       "  </tbody>\n",
       "</table>\n",
       "</div>"
      ],
      "text/plain": [
       "   employee_id  previous_year_rating  length_of_service  kpi  awards_won  \\\n",
       "0        65438                   5.0                  8    1           0   \n",
       "1        65141                   5.0                  4    0           0   \n",
       "2         7513                   3.0                  7    0           0   \n",
       "3         2542                   1.0                 10    0           0   \n",
       "4        48945                   3.0                  2    0           0   \n",
       "\n",
       "   is_promoted  departGroup  regionGroup  eduGroup  genderGroup  recruitGroup  \\\n",
       "0            0            8           32         3            1             3   \n",
       "1            0            5           15         1            2             1   \n",
       "2            0            8           11         1            2             3   \n",
       "3            0            8           16         1            2             1   \n",
       "4            0            9           19         1            2             1   \n",
       "\n",
       "   trainingGroup  avg_training_scoreg  AgeGroup  sempGroup  \n",
       "0              1                    2         3          2  \n",
       "1              1                    1         3          1  \n",
       "2              1                    2         3          1  \n",
       "3              2                    2         1          1  \n",
       "4              1                    7         1          1  "
      ]
     },
     "execution_count": 149,
     "metadata": {},
     "output_type": "execute_result"
    }
   ],
   "source": [
    "train.head()"
   ]
  },
  {
   "cell_type": "code",
   "execution_count": 150,
   "metadata": {},
   "outputs": [],
   "source": [
    "train['previous_year_rating'] = train['previous_year_rating'].fillna(np.mean(train['previous_year_rating']))\n",
    "test['previous_year_rating'] = test['previous_year_rating'].fillna(np.mean(train['previous_year_rating']))"
   ]
  },
  {
   "cell_type": "code",
   "execution_count": 151,
   "metadata": {},
   "outputs": [],
   "source": [
    "from sklearn.model_selection import train_test_split\n",
    "x = train.drop(['is_promoted', 'employee_id'], axis=1)\n",
    "y = train[\"is_promoted\"]\n",
    "x_train, x_val, y_train, y_val = train_test_split(x, y, test_size = 0.25, random_state = 0)"
   ]
  },
  {
   "cell_type": "code",
   "execution_count": 152,
   "metadata": {},
   "outputs": [
    {
     "name": "stdout",
     "output_type": "stream",
     "text": [
      "90.84\n",
      "91.88\n",
      "89.41\n",
      "92.6\n",
      "91.33\n",
      "91.33\n",
      "93.37\n"
     ]
    }
   ],
   "source": [
    "\n",
    "# Gaussian Naive Bayes\n",
    "from sklearn.naive_bayes import GaussianNB\n",
    "from sklearn.metrics import accuracy_score\n",
    "gaussian = GaussianNB()\n",
    "gaussian.fit(x_train, y_train)\n",
    "y_pred = gaussian.predict(x_val)\n",
    "acc_gaussian = round(accuracy_score(y_pred, y_val) * 100, 2)\n",
    "print(acc_gaussian)\n",
    "\n",
    "# Logistic Regression\n",
    "from sklearn.linear_model import LogisticRegression\n",
    "logreg = LogisticRegression()\n",
    "logreg.fit(x_train, y_train)\n",
    "y_pred = logreg.predict(x_val)\n",
    "acc_logreg = round(accuracy_score(y_pred, y_val) * 100, 2)\n",
    "print(acc_logreg)\n",
    "\n",
    "#Decision Tree\n",
    "from sklearn.tree import DecisionTreeClassifier\n",
    "decisiontree = DecisionTreeClassifier()\n",
    "decisiontree.fit(x_train, y_train)\n",
    "y_pred = decisiontree.predict(x_val)\n",
    "acc_decisiontree = round(accuracy_score(y_pred, y_val) * 100, 2)\n",
    "print(acc_decisiontree)\n",
    "\n",
    "# Random Forest\n",
    "from sklearn.ensemble import RandomForestClassifier\n",
    "randomforest = RandomForestClassifier(n_estimators=100, oob_score = True)\n",
    "randomforest.fit(x_train, y_train)\n",
    "y_pred = randomforest.predict(x_val)\n",
    "acc_randomforest = round(accuracy_score(y_pred, y_val) * 100, 2)\n",
    "print(acc_randomforest)\n",
    "\n",
    "# KNN or k-Nearest Neighbors\n",
    "from sklearn.neighbors import KNeighborsClassifier\n",
    "knn = KNeighborsClassifier()\n",
    "knn.fit(x_train, y_train)\n",
    "y_pred = knn.predict(x_val)\n",
    "acc_knn = round(accuracy_score(y_pred, y_val) * 100, 2)\n",
    "print(acc_knn)\n",
    "\n",
    "\n",
    "# Stochastic Gradient Descent\n",
    "from sklearn.linear_model import SGDClassifier\n",
    "sgd = SGDClassifier()\n",
    "sgd.fit(x_train, y_train)\n",
    "y_pred = sgd.predict(x_val)\n",
    "acc_sgd = round(accuracy_score(y_pred, y_val) * 100, 2)\n",
    "print(acc_sgd)\n",
    "\n",
    "# Gradient Boosting Classifier\n",
    "from sklearn.ensemble import GradientBoostingClassifier\n",
    "gbk = GradientBoostingClassifier()\n",
    "gbk.fit(x_train, y_train)\n",
    "y_pred = gbk.predict(x_val)\n",
    "acc_gbk = round(accuracy_score(y_pred, y_val) * 100, 2)\n",
    "print(acc_gbk)"
   ]
  },
  {
   "cell_type": "code",
   "execution_count": 153,
   "metadata": {},
   "outputs": [
    {
     "data": {
      "text/html": [
       "<div>\n",
       "<style scoped>\n",
       "    .dataframe tbody tr th:only-of-type {\n",
       "        vertical-align: middle;\n",
       "    }\n",
       "\n",
       "    .dataframe tbody tr th {\n",
       "        vertical-align: top;\n",
       "    }\n",
       "\n",
       "    .dataframe thead th {\n",
       "        text-align: right;\n",
       "    }\n",
       "</style>\n",
       "<table border=\"1\" class=\"dataframe\">\n",
       "  <thead>\n",
       "    <tr style=\"text-align: right;\">\n",
       "      <th></th>\n",
       "      <th>Model</th>\n",
       "      <th>Score</th>\n",
       "    </tr>\n",
       "  </thead>\n",
       "  <tbody>\n",
       "    <tr>\n",
       "      <th>6</th>\n",
       "      <td>Gradient Boosting Classifier</td>\n",
       "      <td>93.37</td>\n",
       "    </tr>\n",
       "    <tr>\n",
       "      <th>2</th>\n",
       "      <td>Random Forest</td>\n",
       "      <td>92.60</td>\n",
       "    </tr>\n",
       "    <tr>\n",
       "      <th>1</th>\n",
       "      <td>Logistic Regression</td>\n",
       "      <td>91.88</td>\n",
       "    </tr>\n",
       "    <tr>\n",
       "      <th>0</th>\n",
       "      <td>KNN</td>\n",
       "      <td>91.33</td>\n",
       "    </tr>\n",
       "    <tr>\n",
       "      <th>5</th>\n",
       "      <td>Stochastic Gradient Descent</td>\n",
       "      <td>91.33</td>\n",
       "    </tr>\n",
       "    <tr>\n",
       "      <th>3</th>\n",
       "      <td>Naive Bayes</td>\n",
       "      <td>90.84</td>\n",
       "    </tr>\n",
       "    <tr>\n",
       "      <th>4</th>\n",
       "      <td>Decision Tree</td>\n",
       "      <td>89.41</td>\n",
       "    </tr>\n",
       "  </tbody>\n",
       "</table>\n",
       "</div>"
      ],
      "text/plain": [
       "                          Model  Score\n",
       "6  Gradient Boosting Classifier  93.37\n",
       "2                 Random Forest  92.60\n",
       "1           Logistic Regression  91.88\n",
       "0                           KNN  91.33\n",
       "5   Stochastic Gradient Descent  91.33\n",
       "3                   Naive Bayes  90.84\n",
       "4                 Decision Tree  89.41"
      ]
     },
     "execution_count": 153,
     "metadata": {},
     "output_type": "execute_result"
    }
   ],
   "source": [
    "models = pd.DataFrame({\n",
    "    'Model': ['KNN', 'Logistic Regression', \n",
    "              'Random Forest', 'Naive Bayes', \n",
    "              'Decision Tree', 'Stochastic Gradient Descent', 'Gradient Boosting Classifier'],\n",
    "    'Score': [ acc_knn, acc_logreg, \n",
    "              acc_randomforest, acc_gaussian, acc_decisiontree,\n",
    "              acc_sgd, acc_gbk]})\n",
    "models.sort_values(by='Score', ascending=False)"
   ]
  },
  {
   "cell_type": "code",
   "execution_count": null,
   "metadata": {},
   "outputs": [],
   "source": []
  },
  {
   "cell_type": "code",
   "execution_count": 155,
   "metadata": {},
   "outputs": [
    {
     "name": "stdout",
     "output_type": "stream",
     "text": [
      "Scores: [0.92801556 0.93385214 0.92850195 0.93385214 0.93142023 0.92996109\n",
      " 0.92996109 0.93385214 0.93531128 0.92947471 0.92996109 0.93385214\n",
      " 0.93187348 0.92846715 0.93281402 0.93281402 0.93330088 0.93816943\n",
      " 0.92794547 0.92989289]\n",
      "Mean: 0.931664645283325\n",
      "Standard Deviation: 0.0026850448135651403\n"
     ]
    }
   ],
   "source": [
    "#kfold cross validation\n",
    "from sklearn.model_selection import cross_val_score\n",
    "gbk2 = GradientBoostingClassifier()\n",
    "scores = cross_val_score(gbk2, x_train, y_train, cv=20, scoring = \"accuracy\")\n",
    "print(\"Scores:\", scores)\n",
    "print(\"Mean:\", scores.mean())\n",
    "print(\"Standard Deviation:\", scores.std())"
   ]
  },
  {
   "cell_type": "code",
   "execution_count": 156,
   "metadata": {},
   "outputs": [
    {
     "data": {
      "text/plain": [
       "<matplotlib.axes._subplots.AxesSubplot at 0x1b669e63208>"
      ]
     },
     "execution_count": 156,
     "metadata": {},
     "output_type": "execute_result"
    },
    {
     "data": {
      "image/png": "[encoded data removed]",
      "text/plain": [
       "<Figure size 432x288 with 1 Axes>"
      ]
     },
     "metadata": {},
     "output_type": "display_data"
    }
   ],
   "source": [
    "#features minify\n",
    "importances = pd.DataFrame({'feature':x_train.columns,'importance':np.round(randomforest.feature_importances_,3)})\n",
    "importances = importances.sort_values('importance',ascending=False).set_index('feature')\n",
    "importances.head(15)\n",
    "importances.plot.bar()"
   ]
  },
  {
   "cell_type": "code",
   "execution_count": 157,
   "metadata": {},
   "outputs": [],
   "source": [
    "from sklearn.metrics import confusion_matrix\n",
    "from sklearn.model_selection import cross_val_predict\n",
    "predictions = cross_val_predict(gbk2, x_train, y_train, cv=3)\n",
    "CM = confusion_matrix(y_train, predictions)"
   ]
  },
  {
   "cell_type": "code",
   "execution_count": 158,
   "metadata": {},
   "outputs": [
    {
     "name": "stdout",
     "output_type": "stream",
     "text": [
      "[[37534    58]\n",
      " [ 2753   761]]\n"
     ]
    }
   ],
   "source": [
    "print(CM)"
   ]
  },
  {
   "cell_type": "code",
   "execution_count": 159,
   "metadata": {},
   "outputs": [
    {
     "name": "stdout",
     "output_type": "stream",
     "text": [
      "Precision: 0.9291819291819292\n",
      "Recall: 0.2165623221400114\n"
     ]
    },
    {
     "data": {
      "text/plain": [
       "0.35125778906069693"
      ]
     },
     "execution_count": 159,
     "metadata": {},
     "output_type": "execute_result"
    }
   ],
   "source": [
    "#precision and recall\n",
    "from sklearn.metrics import precision_score, recall_score\n",
    "print(\"Precision:\", precision_score(y_train, predictions))\n",
    "print(\"Recall:\",recall_score(y_train, predictions))\n",
    "#f1 score\n",
    "from sklearn.metrics import f1_score\n",
    "f1_score(y_train, predictions)"
   ]
  },
  {
   "cell_type": "code",
   "execution_count": 160,
   "metadata": {},
   "outputs": [
    {
     "name": "stdout",
     "output_type": "stream",
     "text": [
      "       is_promoted\n",
      "8724             0\n",
      "74430            0\n",
      "72255            0\n",
      "38562            0\n",
      "64486            0\n",
      "46232            0\n",
      "54542            0\n",
      "67269            0\n",
      "66174            0\n",
      "76303            0\n",
      "60245            0\n",
      "42639            0\n",
      "30963            0\n",
      "54055            0\n",
      "42996            0\n",
      "12737            0\n",
      "27561            0\n",
      "26622            0\n",
      "31582            0\n",
      "29793            0\n",
      "72735            0\n",
      "5677             0\n",
      "60889            0\n",
      "51498            0\n",
      "8566             0\n",
      "53151            1\n",
      "16203            0\n",
      "61083            0\n",
      "74849            0\n",
      "13259            0\n",
      "...            ...\n",
      "72190            0\n",
      "27155            0\n",
      "15959            0\n",
      "72900            0\n",
      "57683            0\n",
      "55174            0\n",
      "51115            0\n",
      "50134            0\n",
      "59775            0\n",
      "14408            0\n",
      "4351             0\n",
      "59625            0\n",
      "29379            0\n",
      "67979            0\n",
      "61451            0\n",
      "73871            0\n",
      "52090            0\n",
      "18488            0\n",
      "59673            0\n",
      "39410            0\n",
      "11837            0\n",
      "78278            0\n",
      "27284            0\n",
      "49291            0\n",
      "47537            0\n",
      "53478            0\n",
      "25600            0\n",
      "45409            0\n",
      "1186             0\n",
      "5973             0\n",
      "\n",
      "[23490 rows x 1 columns]\n",
      "(23490, 1)\n"
     ]
    }
   ],
   "source": [
    "#test predict\n",
    "x_test = test.drop(['employee_id'], axis=1)\n",
    "#y_test = test[\"is_promoted\"]\n",
    "# Gaussian Naive Bayes\n",
    "from sklearn.metrics import accuracy_score\n",
    "gbk3 = RandomForestClassifier()\n",
    "gbk3.fit(x, y)\n",
    "y_pred_test = gbk3.predict(x_test)\n",
    "#acc_gaussian = ''\n",
    "#print(y_pred_test)\n",
    "\n",
    "# Create a data frame with two columns: PassengerId & Survived. Survived contains your predictions\n",
    "loadid =np.array(test[\"employee_id\"])\n",
    "my_solution = pd.DataFrame(y_pred_test, loadid, columns = [\"is_promoted\"])\n",
    "print(my_solution)\n",
    "\n",
    "# Check that your data frame has 418 entries\n",
    "print(my_solution.shape)\n",
    "\n",
    "# Write your solution to a csv file with the name my_solution.csv\n",
    "my_solution.to_csv(\"solution2.csv\", index_label = [\"employee_id\"])"
   ]
  },
  {
   "cell_type": "code",
   "execution_count": 115,
   "metadata": {},
   "outputs": [
    {
     "name": "stdout",
     "output_type": "stream",
     "text": [
      "93.91\n"
     ]
    }
   ],
   "source": [
    "# Gradient Boosting Classifier\n",
    "from sklearn.ensemble import GradientBoostingClassifier\n",
    "gbk = GradientBoostingClassifier()\n",
    "gbk.fit(x_train, y_train)\n",
    "y_pred = gbk.predict(x_val)\n",
    "acc_gbk = round(accuracy_score(y_pred, y_val) * 100, 2)\n",
    "print(acc_gbk)"
   ]
  },
  {
   "cell_type": "code",
   "execution_count": 116,
   "metadata": {},
   "outputs": [],
   "source": [
    "from sklearn.metrics import roc_curve, auc\n",
    "\n",
    "false_positive_rate, true_positive_rate, thresholds = roc_curve(y_val, y_pred)\n",
    "roc_auc = auc(false_positive_rate, true_positive_rate)"
   ]
  },
  {
   "cell_type": "code",
   "execution_count": 118,
   "metadata": {},
   "outputs": [
    {
     "data": {
      "text/plain": [
       "0.6437609060182243"
      ]
     },
     "execution_count": 118,
     "metadata": {},
     "output_type": "execute_result"
    }
   ],
   "source": [
    "roc_auc"
   ]
  },
  {
   "cell_type": "code",
   "execution_count": 124,
   "metadata": {},
   "outputs": [
    {
     "data": {
      "image/png": "[encoded data removed]",
      "text/plain": [
       "<Figure size 432x288 with 1 Axes>"
      ]
     },
     "metadata": {},
     "output_type": "display_data"
    }
   ],
   "source": [
    "learning_rates = [1, 0.5, 0.25, 0.1, 0.05, 0.01]\n",
    "\n",
    "train_results = []\n",
    "test_results = []\n",
    "for eta in learning_rates:\n",
    "   model = GradientBoostingClassifier(learning_rate=eta)\n",
    "   model.fit(x_train, y_train)\n",
    "\n",
    "   train_pred = model.predict(x_train)\n",
    "\n",
    "   false_positive_rate, true_positive_rate, thresholds = roc_curve(y_train, train_pred)\n",
    "   roc_auc = auc(false_positive_rate, true_positive_rate)\n",
    "   train_results.append(roc_auc)\n",
    "\n",
    "   y_pred = model.predict(x_val)\n",
    "\n",
    "   false_positive_rate, true_positive_rate, thresholds = roc_curve(y_val, y_pred)\n",
    "   roc_auc = auc(false_positive_rate, true_positive_rate)\n",
    "   test_results.append(roc_auc)\n",
    "\n",
    "from matplotlib.legend_handler import HandlerLine2D\n",
    "\n",
    "line1, = plt.plot(learning_rates, train_results, 'b', label=\"Train AUC\")\n",
    "line2, = plt.plot(learning_rates, test_results, 'r', label=\"Test AUC\")\n",
    "\n",
    "plt.legend(handler_map={line1: HandlerLine2D(numpoints=2)})\n",
    "\n",
    "plt.ylabel('AUC score')\n",
    "plt.xlabel('learning rate')\n",
    "plt.show()"
   ]
  },
  {
   "cell_type": "code",
   "execution_count": 128,
   "metadata": {},
   "outputs": [
    {
     "data": {
      "image/png": "[encoded data removed]",
      "text/plain": [
       "<Figure size 432x288 with 1 Axes>"
      ]
     },
     "metadata": {},
     "output_type": "display_data"
    }
   ],
   "source": [
    "n_estimators = [1, 2, 4, 8, 16, 32, 64, 100, 200]\n",
    "\n",
    "train_results = []\n",
    "test_results = []\n",
    "for estimator in n_estimators:\n",
    "   model = GradientBoostingClassifier(n_estimators=estimator)\n",
    "   model.fit(x_train, y_train)\n",
    "\n",
    "   train_pred = model.predict(x_train)\n",
    "\n",
    "   false_positive_rate, true_positive_rate, thresholds = roc_curve(y_train, train_pred)\n",
    "   roc_auc = auc(false_positive_rate, true_positive_rate)\n",
    "   train_results.append(roc_auc)\n",
    "\n",
    "   y_pred = model.predict(x_val)\n",
    "\n",
    "   false_positive_rate, true_positive_rate, thresholds = roc_curve(y_val, y_pred)\n",
    "   roc_auc = auc(false_positive_rate, true_positive_rate)\n",
    "   test_results.append(roc_auc)\n",
    "\n",
    "from matplotlib.legend_handler import HandlerLine2D\n",
    "\n",
    "line1, = plt.plot(n_estimators, train_results, 'b', label=\"Train AUC\")\n",
    "line2, = plt.plot(n_estimators, test_results, 'r', label=\"Test AUC\")\n",
    "\n",
    "plt.legend(handler_map={line1: HandlerLine2D(numpoints=2)})\n",
    "\n",
    "plt.ylabel(\"AUC score\")\n",
    "plt.xlabel(\"n_estimators\")\n",
    "plt.show()"
   ]
  },
  {
   "cell_type": "code",
   "execution_count": 130,
   "metadata": {},
   "outputs": [
    {
     "data": {
      "image/png": "[encoded data removed]",
      "text/plain": [
       "<Figure size 432x288 with 1 Axes>"
      ]
     },
     "metadata": {},
     "output_type": "display_data"
    }
   ],
   "source": [
    "max_depths = np.linspace(1, 10, 10, endpoint=True)\n",
    "\n",
    "train_results = []\n",
    "test_results = []\n",
    "for max_depth in max_depths:\n",
    "   model = GradientBoostingClassifier(max_depth=max_depth)\n",
    "   model.fit(x_train, y_train)\n",
    "\n",
    "   train_pred = model.predict(x_train)\n",
    "\n",
    "   false_positive_rate, true_positive_rate, thresholds = roc_curve(y_train, train_pred)\n",
    "   roc_auc = auc(false_positive_rate, true_positive_rate)\n",
    "   train_results.append(roc_auc)\n",
    "\n",
    "   y_pred = model.predict(x_val)\n",
    "\n",
    "   false_positive_rate, true_positive_rate, thresholds = roc_curve(y_val, y_pred)\n",
    "   roc_auc = auc(false_positive_rate, true_positive_rate)\n",
    "   test_results.append(roc_auc)\n",
    "\n",
    "from matplotlib.legend_handler import HandlerLine2D\n",
    "\n",
    "line1, = plt.plot(max_depths, train_results, 'b', label=\"Train AUC\")\n",
    "line2, = plt.plot(max_depths, test_results, 'r', label=\"Test AUC\")\n",
    "\n",
    "plt.legend(handler_map={line1: HandlerLine2D(numpoints=2)})\n",
    "\n",
    "plt.ylabel('AUC score')\n",
    "plt.xlabel('Tree depth')\n",
    "plt.show()"
   ]
  },
  {
   "cell_type": "code",
   "execution_count": null,
   "metadata": {},
   "outputs": [],
   "source": []
  }
 ],
 "metadata": {
  "kernelspec": {
   "display_name": "Python 3",
   "language": "python",
   "name": "python3"
  },
  "language_info": {
   "codemirror_mode": {
    "name": "ipython",
    "version": 3
   },
   "file_extension": ".py",
   "mimetype": "text/x-python",
   "name": "python",
   "nbconvert_exporter": "python",
   "pygments_lexer": "ipython3",
   "version": "3.6.5"
  }
 },
 "nbformat": 4,
 "nbformat_minor": 2
}
